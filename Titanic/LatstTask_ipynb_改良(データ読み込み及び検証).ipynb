{
  "nbformat": 4,
  "nbformat_minor": 0,
  "metadata": {
    "colab": {
      "name": "LatstTask.ipynb のコピー",
      "provenance": [],
      "collapsed_sections": [],
      "toc_visible": true,
      "authorship_tag": "ABX9TyO7wmZtVTs9OUxc6OtkEaKJ",
      "include_colab_link": true
    },
    "kernelspec": {
      "name": "python3",
      "display_name": "Python 3"
    },
    "language_info": {
      "name": "python"
    }
  },
  "cells": [
    {
      "cell_type": "markdown",
      "metadata": {
        "id": "view-in-github",
        "colab_type": "text"
      },
      "source": [
        "<a href=\"https://colab.research.google.com/github/saiku122/AIJobcolle/blob/master/MachineLearning/finaltask/LatstTask_ipynb_%E6%94%B9%E8%89%AF(%E3%83%87%E3%83%BC%E3%82%BF%E8%AA%AD%E3%81%BF%E8%BE%BC%E3%81%BF%E5%8F%8A%E3%81%B3%E6%A4%9C%E8%A8%BC).ipynb\" target=\"_parent\"><img src=\"https://colab.research.google.com/assets/colab-badge.svg\" alt=\"Open In Colab\"/></a>"
      ]
    },
    {
      "cell_type": "code",
      "metadata": {
        "colab": {
          "base_uri": "https://localhost:8080/"
        },
        "id": "kkmdqiNAKovu",
        "outputId": "b3e1f435-38d5-4764-efaf-ced0ab790be5"
      },
      "source": [
        "!git clone https://github.com/saiku122/AIJobcolle.git"
      ],
      "execution_count": 1,
      "outputs": [
        {
          "output_type": "stream",
          "text": [
            "Cloning into 'AIJobcolle'...\n",
            "remote: Enumerating objects: 437, done.\u001b[K\n",
            "remote: Counting objects: 100% (437/437), done.\u001b[K\n",
            "remote: Compressing objects: 100% (316/316), done.\u001b[K\n",
            "remote: Total 437 (delta 180), reused 216 (delta 68), pack-reused 0\u001b[K\n",
            "Receiving objects: 100% (437/437), 12.07 MiB | 16.77 MiB/s, done.\n",
            "Resolving deltas: 100% (180/180), done.\n"
          ],
          "name": "stdout"
        }
      ]
    },
    {
      "cell_type": "code",
      "metadata": {
        "colab": {
          "base_uri": "https://localhost:8080/"
        },
        "id": "1CD5_Y3eL-p6",
        "outputId": "ed4f7571-8a8a-426d-f344-e40d469eb550"
      },
      "source": [
        "cd /content/AIJobcolle/MachineLearning/finaltask/"
      ],
      "execution_count": 2,
      "outputs": [
        {
          "output_type": "stream",
          "text": [
            "/content/AIJobcolle/MachineLearning/finaltask\n"
          ],
          "name": "stdout"
        }
      ]
    },
    {
      "cell_type": "markdown",
      "metadata": {
        "id": "DazQxFA8LTt2"
      },
      "source": [
        "★★最終課題★★</br>\n",
        "〇入力データ</br>\n",
        "・モデル用：final_hr_analysis_train.csv</br>\n",
        "・スコア用：final_hr_analysis_test.csv</br>\n",
        "</br>\n",
        "〇出力データ</br>\n",
        "・スコア付データ：</br> \n",
        "・モデル：</br>\n"
      ]
    },
    {
      "cell_type": "code",
      "metadata": {
        "id": "ANRgG95yLAAR"
      },
      "source": [
        "import pandas as pd\n",
        "import numpy as np\n",
        "from sklearn.preprocessing import StandardScaler\n",
        "from sklearn.impute import SimpleImputer\n",
        "from sklearn.feature_selection import RFECV\n",
        "from sklearn.model_selection import cross_val_score\n",
        "from sklearn.neighbors import KNeighborsClassifier\n",
        "from sklearn.linear_model import LogisticRegression\n",
        "from sklearn.svm import SVC, LinearSVC\n",
        "from sklearn.tree import DecisionTreeClassifier\n",
        "from sklearn.ensemble import RandomForestClassifier\n",
        "from sklearn.ensemble import GradientBoostingClassifier\n",
        "from sklearn.neural_network import MLPClassifier\n",
        "from sklearn.pipeline import Pipeline\n",
        "from sklearn.metrics import confusion_matrix\n",
        "import joblib\n",
        "from sklearn.metrics import accuracy_score\n",
        "import lightgbm as lgb"
      ],
      "execution_count": 3,
      "outputs": []
    },
    {
      "cell_type": "code",
      "metadata": {
        "id": "M6-5tNXiLa9v"
      },
      "source": [
        "#インプットファイル\n",
        "file_model_name = 'final_hr_analysis_train'\n",
        "file_test_name = 'final_hr_analysis_test'"
      ],
      "execution_count": 4,
      "outputs": []
    },
    {
      "cell_type": "code",
      "metadata": {
        "id": "92kRXOIvarsj"
      },
      "source": [
        "my_dtype = {'sales':object,\n",
        "            'salary':object} ##!!!変更箇所\n",
        "ohe_cols = ['sales',\n",
        "           'salary'] #!!!変更箇所"
      ],
      "execution_count": 5,
      "outputs": []
    },
    {
      "cell_type": "code",
      "metadata": {
        "id": "hVQqH6vILpfW",
        "colab": {
          "base_uri": "https://localhost:8080/"
        },
        "outputId": "73200099-9b69-487d-b597-769a233b1b1f"
      },
      "source": [
        "#  モデル用データ読み込み\n",
        "df = pd.read_csv('./input/'+ file_model_name + '.csv',\n",
        "                 header=0,\n",
        "                 dtype=my_dtype)\n",
        "ID = df.iloc[:,0] #1列目取得\n",
        "y=df.iloc[:,1]    #2列目の正解データを取得\n",
        "X=df.iloc[:,2:]   #3列目以降取得\n",
        "df.dtypes"
      ],
      "execution_count": 6,
      "outputs": [
        {
          "output_type": "execute_result",
          "data": {
            "text/plain": [
              "index                      int64\n",
              "left                       int64\n",
              "satisfaction_level       float64\n",
              "last_evaluation          float64\n",
              "number_project             int64\n",
              "average_montly_hours       int64\n",
              "time_spend_company         int64\n",
              "Work_accident              int64\n",
              "promotion_last_5years      int64\n",
              "sales                     object\n",
              "salary                    object\n",
              "dtype: object"
            ]
          },
          "metadata": {
            "tags": []
          },
          "execution_count": 6
        }
      ]
    },
    {
      "cell_type": "code",
      "metadata": {
        "id": "-V7URkHE3tpA"
      },
      "source": [
        "# one-hot encoding処理\n",
        "X_ohe = pd.get_dummies(X, dummy_na=True, columns=ohe_cols)\n",
        "#display(X_ohe)\n",
        "X_ohe = X_ohe.dropna(axis=1,how='all')#axis=1　列\n",
        "#display(X_ohe)\n",
        "X_ohe_columns = X_ohe.columns.values #モデルデータの列確定"
      ],
      "execution_count": 7,
      "outputs": []
    },
    {
      "cell_type": "code",
      "metadata": {
        "id": "4cyhrJ1SZ7oA"
      },
      "source": [
        "#欠損値の置き換え\n",
        "imp=SimpleImputer() #平均値で欠損値を補完\n",
        "imp.fit(X_ohe)\n",
        "X_ohe = pd.DataFrame(imp.transform(X_ohe),columns=X_ohe_columns) # モデルデータの列を平均値補完適用させ変数を更新"
      ],
      "execution_count": 8,
      "outputs": []
    },
    {
      "cell_type": "code",
      "metadata": {
        "id": "tkqwSbCicgUI"
      },
      "source": [
        "#特徴量抽出\n",
        "selector = RFECV(estimator=RandomForestClassifier(n_estimators=100,random_state=0), step=0.05) #特徴量をRFE(主成分分析)を用いて次元削減する。(モデルはランダムフォレスト)\n",
        "selector.fit(X_ohe, y) #RFEした結果を保存\n",
        "X_ohe_selected = selector.transform(X_ohe) #X_oheに反映\n",
        "X_ohe_selected = pd.DataFrame(X_ohe_selected, columns=X_ohe_columns[selector.support_]) #削減実行後のデータを再構成"
      ],
      "execution_count": 9,
      "outputs": []
    },
    {
      "cell_type": "markdown",
      "metadata": {
        "id": "TGv3gF31r2Kp"
      },
      "source": [
        "**モデリング**"
      ]
    },
    {
      "cell_type": "code",
      "metadata": {
        "id": "0vZzO1yQr8aV"
      },
      "source": [
        "#アルゴリズム定義\n",
        "#model_name = 'GBC_001'\n",
        "'''\n",
        "clf = Pipeline([('scl',StandardScaler()), \n",
        "                ('est',GradientBoostingClassifier(random_state=1))\n",
        "                ])\n",
        "'''\n",
        "# set pipelines for different algorithms\n",
        "pipelines = {\n",
        "    'knn':\n",
        "       Pipeline([('scl',StandardScaler()),\n",
        "                  ('est',KNeighborsClassifier())]),\n",
        "    'logistic':\n",
        "        Pipeline([('scl',StandardScaler()),\n",
        "                  ('est',LogisticRegression(random_state=1))]),\n",
        "    'rsvc':\n",
        "        Pipeline([('scl',StandardScaler()),\n",
        "                  ('est',SVC(C=1.0, kernel='rbf', class_weight='balanced', random_state=1,probability = True))]),\n",
        "    'lsvc':\n",
        "        Pipeline([('scl',StandardScaler()),\n",
        "                  ('est',SVC(C=1.0, kernel='linear', class_weight='balanced', random_state=1,probability = True))]),\n",
        "    'tree':\n",
        "        Pipeline([('scl',StandardScaler()),\n",
        "                  ('est',DecisionTreeClassifier(random_state=1))]),\n",
        "    'rf':\n",
        "        Pipeline([('scl',StandardScaler()),\n",
        "                  ('est',RandomForestClassifier(random_state=1))]),\n",
        "    'gb':\n",
        "        Pipeline([('scl',StandardScaler()),\n",
        "                  ('est',GradientBoostingClassifier(random_state=1))]),\n",
        "    'lgb':\n",
        "        Pipeline([('scl',StandardScaler()),\n",
        "                  ('lgb',lgb.LGBMClassifier())]),\n",
        "    'mlp': #ニューラルネットワーク\n",
        "        Pipeline([('scl',StandardScaler()),\n",
        "                  ('est',MLPClassifier(hidden_layer_sizes=(3,3),\n",
        "                                       max_iter=1000,\n",
        "                                       random_state=1))])\n",
        "}"
      ],
      "execution_count": 13,
      "outputs": []
    },
    {
      "cell_type": "markdown",
      "metadata": {
        "id": "OUrT3pvjOXqW"
      },
      "source": [
        "**評価データ作成(Holdアウト法)**\n"
      ]
    },
    {
      "cell_type": "code",
      "metadata": {
        "id": "z8g0F3XpOfc6"
      },
      "source": [
        "#Holdアウト法\n",
        "from sklearn.model_selection import train_test_split"
      ],
      "execution_count": 10,
      "outputs": []
    },
    {
      "cell_type": "code",
      "metadata": {
        "id": "Hp7dA7FTOtZu"
      },
      "source": [
        "# holdout法のテストデータ作成\n",
        "X_train,X_test,y_train,y_test=train_test_split(X_ohe_selected,\n",
        "                                               y,\n",
        "                                               test_size=0.3,\n",
        "                                               random_state=1)"
      ],
      "execution_count": 11,
      "outputs": []
    },
    {
      "cell_type": "code",
      "metadata": {
        "id": "VlwlWr-ysIpu"
      },
      "source": [
        "#Holdout法を用いて評価\n",
        "scores = {}\n",
        "for pipe_name, pipeline in pipelines.items():\n",
        "    pipeline.fit(X_train, y_train)\n",
        "    scores[(pipe_name,'train')] = accuracy_score(y_train, pipeline.predict(X_train))\n",
        "    scores[(pipe_name,'test')] = accuracy_score(y_test, pipeline.predict(X_test))"
      ],
      "execution_count": 16,
      "outputs": []
    },
    {
      "cell_type": "code",
      "metadata": {
        "id": "gDudpxL6PeGg",
        "outputId": "618ef29d-347f-44a1-934c-e5dd60b869f7",
        "colab": {
          "base_uri": "https://localhost:8080/",
          "height": 316
        }
      },
      "source": [
        "pd.Series(scores).unstack()"
      ],
      "execution_count": 17,
      "outputs": [
        {
          "output_type": "execute_result",
          "data": {
            "text/html": [
              "<div>\n",
              "<style scoped>\n",
              "    .dataframe tbody tr th:only-of-type {\n",
              "        vertical-align: middle;\n",
              "    }\n",
              "\n",
              "    .dataframe tbody tr th {\n",
              "        vertical-align: top;\n",
              "    }\n",
              "\n",
              "    .dataframe thead th {\n",
              "        text-align: right;\n",
              "    }\n",
              "</style>\n",
              "<table border=\"1\" class=\"dataframe\">\n",
              "  <thead>\n",
              "    <tr style=\"text-align: right;\">\n",
              "      <th></th>\n",
              "      <th>test</th>\n",
              "      <th>train</th>\n",
              "    </tr>\n",
              "  </thead>\n",
              "  <tbody>\n",
              "    <tr>\n",
              "      <th>gb</th>\n",
              "      <td>0.973333</td>\n",
              "      <td>0.976187</td>\n",
              "    </tr>\n",
              "    <tr>\n",
              "      <th>knn</th>\n",
              "      <td>0.966667</td>\n",
              "      <td>0.973194</td>\n",
              "    </tr>\n",
              "    <tr>\n",
              "      <th>lgb</th>\n",
              "      <td>0.983810</td>\n",
              "      <td>0.996326</td>\n",
              "    </tr>\n",
              "    <tr>\n",
              "      <th>logistic</th>\n",
              "      <td>0.766984</td>\n",
              "      <td>0.767860</td>\n",
              "    </tr>\n",
              "    <tr>\n",
              "      <th>lsvc</th>\n",
              "      <td>0.745397</td>\n",
              "      <td>0.744727</td>\n",
              "    </tr>\n",
              "    <tr>\n",
              "      <th>mlp</th>\n",
              "      <td>0.958095</td>\n",
              "      <td>0.959586</td>\n",
              "    </tr>\n",
              "    <tr>\n",
              "      <th>rf</th>\n",
              "      <td>0.987619</td>\n",
              "      <td>0.999864</td>\n",
              "    </tr>\n",
              "    <tr>\n",
              "      <th>rsvc</th>\n",
              "      <td>0.962540</td>\n",
              "      <td>0.964485</td>\n",
              "    </tr>\n",
              "    <tr>\n",
              "      <th>tree</th>\n",
              "      <td>0.975238</td>\n",
              "      <td>0.999864</td>\n",
              "    </tr>\n",
              "  </tbody>\n",
              "</table>\n",
              "</div>"
            ],
            "text/plain": [
              "              test     train\n",
              "gb        0.973333  0.976187\n",
              "knn       0.966667  0.973194\n",
              "lgb       0.983810  0.996326\n",
              "logistic  0.766984  0.767860\n",
              "lsvc      0.745397  0.744727\n",
              "mlp       0.958095  0.959586\n",
              "rf        0.987619  0.999864\n",
              "rsvc      0.962540  0.964485\n",
              "tree      0.975238  0.999864"
            ]
          },
          "metadata": {
            "tags": []
          },
          "execution_count": 17
        }
      ]
    },
    {
      "cell_type": "markdown",
      "metadata": {
        "id": "H7GRLTYfSUGl"
      },
      "source": [
        "**交叉検証**</br>\n",
        "入力データ：X_ohe_selected</br>\n",
        "　　　　　　y"
      ]
    },
    {
      "cell_type": "code",
      "metadata": {
        "id": "FFzVdD34SeZw"
      },
      "source": [
        "from sklearn.model_selection import cross_val_score, KFold\n",
        "from scipy.stats import sem"
      ],
      "execution_count": 24,
      "outputs": []
    },
    {
      "cell_type": "code",
      "metadata": {
        "id": "y8fs9uDFTTjM"
      },
      "source": [
        "#交叉検証評価"
      ],
      "execution_count": 21,
      "outputs": []
    },
    {
      "cell_type": "code",
      "metadata": {
        "id": "UL_Ui90zTYQU",
        "outputId": "06e9ae89-2668-48e3-da69-c9f15ed218a8",
        "colab": {
          "base_uri": "https://localhost:8080/"
        }
      },
      "source": [
        "scores = {}\n",
        "cv = KFold(5,shuffle=True,random_state=0)\n",
        "for pipe_name, pipeline in pipelines.items():\n",
        "  scores = cross_val_score(pipeline,X_ohe_selected,y,cv=cv)\n",
        "  print(pipe_name)\n",
        "  print(scores)\n",
        "  print (\"Mean score: {} (+/-{})\".format( np.mean (scores), sem(scores)))"
      ],
      "execution_count": 25,
      "outputs": [
        {
          "output_type": "stream",
          "text": [
            "knn\n",
            "[0.96428571 0.97142857 0.96571429 0.97047619 0.96950929]\n",
            "Mean score: 0.9682828104085847 (+/-0.0013925709598363188)\n",
            "logistic\n",
            "[0.77380952 0.75428571 0.77666667 0.76142857 0.76083849]\n",
            "Mean score: 0.7654057941423353 (+/-0.004229448100462686)\n",
            "rsvc\n",
            "[0.95857143 0.96714286 0.96       0.96571429 0.96379228]\n",
            "Mean score: 0.9630441706935275 (+/-0.0016395245152398877)\n",
            "lsvc\n",
            "[0.74       0.75571429 0.75142857 0.73619048 0.75083373]\n",
            "Mean score: 0.7468334127362235 (+/-0.003714536022130408)\n",
            "tree\n",
            "[0.98       0.97857143 0.97619048 0.97380952 0.97713197]\n",
            "Mean score: 0.9771406792350099 (+/-0.0010540948033235437)\n",
            "rf\n",
            "[0.98904762 0.99       0.99       0.99       0.99047165]\n",
            "Mean score: 0.9899038544431589 (+/-0.00023273013868065897)\n",
            "gb\n",
            "[0.96761905 0.98047619 0.97285714 0.97904762 0.97379705]\n",
            "Mean score: 0.9747594092424965 (+/-0.002308677707289086)\n",
            "lgb\n",
            "[0.98095238 0.98809524 0.9847619  0.98809524 0.98808957]\n",
            "Mean score: 0.9859988656729962 (+/-0.0014169979671499117)\n",
            "mlp\n",
            "[0.95428571 0.96190476 0.9552381  0.96190476 0.9561696 ]\n",
            "Mean score: 0.9579005875813881 (+/-0.0016616151873859086)\n"
          ],
          "name": "stdout"
        }
      ]
    },
    {
      "cell_type": "code",
      "metadata": {
        "id": "cU2rDRDUspxI"
      },
      "source": [
        "#モデル保存\n",
        "for pipe_name, pipeline in pipelines.items():\n",
        "  filename=pipe_name + '.joblib'\n",
        "  joblib.dump('./output/'+ pipe_name, filename)"
      ],
      "execution_count": 26,
      "outputs": []
    },
    {
      "cell_type": "code",
      "metadata": {
        "id": "08W2m0Bz7tFo"
      },
      "source": [
        ""
      ],
      "execution_count": null,
      "outputs": []
    }
  ]
}