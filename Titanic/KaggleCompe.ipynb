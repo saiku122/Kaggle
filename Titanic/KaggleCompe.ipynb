{
  "nbformat": 4,
  "nbformat_minor": 0,
  "metadata": {
    "colab": {
      "name": "LatstTask.ipynb のコピー",
      "provenance": [],
      "collapsed_sections": [],
      "toc_visible": true,
      "authorship_tag": "ABX9TyM6ApahHIL/hgGMujeg4vLQ",
      "include_colab_link": true
    },
    "kernelspec": {
      "name": "python3",
      "display_name": "Python 3"
    },
    "language_info": {
      "name": "python"
    }
  },
  "cells": [
    {
      "cell_type": "markdown",
      "metadata": {
        "id": "view-in-github",
        "colab_type": "text"
      },
      "source": [
        "<a href=\"https://colab.research.google.com/github/saiku122/Kaggle/blob/master/Titanic/KaggleCompe.ipynb\" target=\"_parent\"><img src=\"https://colab.research.google.com/assets/colab-badge.svg\" alt=\"Open In Colab\"/></a>"
      ]
    },
    {
      "cell_type": "code",
      "metadata": {
        "colab": {
          "base_uri": "https://localhost:8080/"
        },
        "id": "kkmdqiNAKovu",
        "outputId": "fbe7a1d5-5a0d-49b1-e22f-bd121acc2ab7"
      },
      "source": [
        "!git clone https://github.com/saiku122/AIJobcolle.git"
      ],
      "execution_count": 4,
      "outputs": [
        {
          "output_type": "stream",
          "text": [
            "Cloning into 'AIJobcolle'...\n",
            "remote: Enumerating objects: 518, done.\u001b[K\n",
            "remote: Counting objects: 100% (518/518), done.\u001b[K\n",
            "remote: Compressing objects: 100% (392/392), done.\u001b[K\n",
            "remote: Total 518 (delta 222), reused 231 (delta 71), pack-reused 0\u001b[K\n",
            "Receiving objects: 100% (518/518), 15.33 MiB | 17.52 MiB/s, done.\n",
            "Resolving deltas: 100% (222/222), done.\n"
          ],
          "name": "stdout"
        }
      ]
    },
    {
      "cell_type": "code",
      "metadata": {
        "colab": {
          "base_uri": "https://localhost:8080/"
        },
        "id": "1CD5_Y3eL-p6",
        "outputId": "00e60962-c953-4027-c9b1-286eae1cccf1"
      },
      "source": [
        "cd /content/Kaggle/Kaggle/Titanic"
      ],
      "execution_count": 5,
      "outputs": [
        {
          "output_type": "stream",
          "text": [
            "/content/Kaggle/Kaggle/Titanic\n"
          ],
          "name": "stdout"
        }
      ]
    },
    {
      "cell_type": "markdown",
      "metadata": {
        "id": "DazQxFA8LTt2"
      },
      "source": [
        "★★最終課題★★</br>\n",
        "〇入力データ</br>\n",
        "・モデル用：train.csv</br>\n",
        "・スコア用：test.csv</br>\n",
        "</br>\n",
        "〇出力データ</br>\n",
        "・スコア付データ：</br> \n",
        "・モデル：</br>\n"
      ]
    },
    {
      "cell_type": "code",
      "metadata": {
        "id": "ANRgG95yLAAR"
      },
      "source": [
        "import pandas as pd\n",
        "import numpy as np\n",
        "from sklearn.preprocessing import StandardScaler\n",
        "from sklearn.impute import SimpleImputer\n",
        "from sklearn.feature_selection import RFECV\n",
        "from sklearn.model_selection import cross_val_score\n",
        "from sklearn.neighbors import KNeighborsClassifier\n",
        "from sklearn.linear_model import LogisticRegression\n",
        "from sklearn.svm import SVC, LinearSVC\n",
        "from sklearn.tree import DecisionTreeClassifier\n",
        "from sklearn.ensemble import RandomForestClassifier\n",
        "from sklearn.ensemble import GradientBoostingClassifier\n",
        "from sklearn.neural_network import MLPClassifier\n",
        "from sklearn.pipeline import Pipeline\n",
        "from sklearn.metrics import confusion_matrix\n",
        "import joblib\n",
        "from sklearn.metrics import accuracy_score\n",
        "import lightgbm as lgb"
      ],
      "execution_count": 6,
      "outputs": []
    },
    {
      "cell_type": "code",
      "metadata": {
        "id": "M6-5tNXiLa9v"
      },
      "source": [
        "#インプットファイル\n",
        "file_model_name = 'train.csv'\n",
        "file_test_name = 'test.csv'"
      ],
      "execution_count": 7,
      "outputs": []
    },
    {
      "cell_type": "code",
      "metadata": {
        "id": "FYIi3PbFXzC7"
      },
      "source": [
        "#一度データ取り込みを実施し、取り込みデータ型を確認\n",
        "df_train = pd.read_csv('./input/'+ file_model_name ,\n",
        "                 header=0\n",
        ")\n",
        "df_test = pd.read_csv('./input/'+ file_test_name ,\n",
        "                 header=0\n",
        ")\n"
      ],
      "execution_count": 13,
      "outputs": []
    },
    {
      "cell_type": "code",
      "metadata": {
        "id": "rmWy_KvhX9rf",
        "outputId": "2ff3ead0-e96a-49ba-f010-dd8378afef75",
        "colab": {
          "base_uri": "https://localhost:8080/",
          "height": 198
        }
      },
      "source": [
        "df_train.dtypes\n",
        "df_train.head()"
      ],
      "execution_count": 16,
      "outputs": [
        {
          "output_type": "execute_result",
          "data": {
            "text/html": [
              "<div>\n",
              "<style scoped>\n",
              "    .dataframe tbody tr th:only-of-type {\n",
              "        vertical-align: middle;\n",
              "    }\n",
              "\n",
              "    .dataframe tbody tr th {\n",
              "        vertical-align: top;\n",
              "    }\n",
              "\n",
              "    .dataframe thead th {\n",
              "        text-align: right;\n",
              "    }\n",
              "</style>\n",
              "<table border=\"1\" class=\"dataframe\">\n",
              "  <thead>\n",
              "    <tr style=\"text-align: right;\">\n",
              "      <th></th>\n",
              "      <th>PassengerId</th>\n",
              "      <th>Survived</th>\n",
              "      <th>Pclass</th>\n",
              "      <th>Name</th>\n",
              "      <th>Sex</th>\n",
              "      <th>Age</th>\n",
              "      <th>SibSp</th>\n",
              "      <th>Parch</th>\n",
              "      <th>Ticket</th>\n",
              "      <th>Fare</th>\n",
              "      <th>Cabin</th>\n",
              "      <th>Embarked</th>\n",
              "    </tr>\n",
              "  </thead>\n",
              "  <tbody>\n",
              "    <tr>\n",
              "      <th>0</th>\n",
              "      <td>1</td>\n",
              "      <td>0</td>\n",
              "      <td>3</td>\n",
              "      <td>Braund, Mr. Owen Harris</td>\n",
              "      <td>male</td>\n",
              "      <td>22.0</td>\n",
              "      <td>1</td>\n",
              "      <td>0</td>\n",
              "      <td>A/5 21171</td>\n",
              "      <td>7.2500</td>\n",
              "      <td>NaN</td>\n",
              "      <td>S</td>\n",
              "    </tr>\n",
              "    <tr>\n",
              "      <th>1</th>\n",
              "      <td>2</td>\n",
              "      <td>1</td>\n",
              "      <td>1</td>\n",
              "      <td>Cumings, Mrs. John Bradley (Florence Briggs Th...</td>\n",
              "      <td>female</td>\n",
              "      <td>38.0</td>\n",
              "      <td>1</td>\n",
              "      <td>0</td>\n",
              "      <td>PC 17599</td>\n",
              "      <td>71.2833</td>\n",
              "      <td>C85</td>\n",
              "      <td>C</td>\n",
              "    </tr>\n",
              "    <tr>\n",
              "      <th>2</th>\n",
              "      <td>3</td>\n",
              "      <td>1</td>\n",
              "      <td>3</td>\n",
              "      <td>Heikkinen, Miss. Laina</td>\n",
              "      <td>female</td>\n",
              "      <td>26.0</td>\n",
              "      <td>0</td>\n",
              "      <td>0</td>\n",
              "      <td>STON/O2. 3101282</td>\n",
              "      <td>7.9250</td>\n",
              "      <td>NaN</td>\n",
              "      <td>S</td>\n",
              "    </tr>\n",
              "    <tr>\n",
              "      <th>3</th>\n",
              "      <td>4</td>\n",
              "      <td>1</td>\n",
              "      <td>1</td>\n",
              "      <td>Futrelle, Mrs. Jacques Heath (Lily May Peel)</td>\n",
              "      <td>female</td>\n",
              "      <td>35.0</td>\n",
              "      <td>1</td>\n",
              "      <td>0</td>\n",
              "      <td>113803</td>\n",
              "      <td>53.1000</td>\n",
              "      <td>C123</td>\n",
              "      <td>S</td>\n",
              "    </tr>\n",
              "    <tr>\n",
              "      <th>4</th>\n",
              "      <td>5</td>\n",
              "      <td>0</td>\n",
              "      <td>3</td>\n",
              "      <td>Allen, Mr. William Henry</td>\n",
              "      <td>male</td>\n",
              "      <td>35.0</td>\n",
              "      <td>0</td>\n",
              "      <td>0</td>\n",
              "      <td>373450</td>\n",
              "      <td>8.0500</td>\n",
              "      <td>NaN</td>\n",
              "      <td>S</td>\n",
              "    </tr>\n",
              "  </tbody>\n",
              "</table>\n",
              "</div>"
            ],
            "text/plain": [
              "   PassengerId  Survived  Pclass  ...     Fare Cabin  Embarked\n",
              "0            1         0       3  ...   7.2500   NaN         S\n",
              "1            2         1       1  ...  71.2833   C85         C\n",
              "2            3         1       3  ...   7.9250   NaN         S\n",
              "3            4         1       1  ...  53.1000  C123         S\n",
              "4            5         0       3  ...   8.0500   NaN         S\n",
              "\n",
              "[5 rows x 12 columns]"
            ]
          },
          "metadata": {
            "tags": []
          },
          "execution_count": 16
        }
      ]
    },
    {
      "cell_type": "code",
      "metadata": {
        "id": "jlDy5LLvYkUL",
        "outputId": "73f92b16-754b-44cb-e3ce-8ef792c4f2f6",
        "colab": {
          "base_uri": "https://localhost:8080/"
        }
      },
      "source": [
        "df_test.dtypes"
      ],
      "execution_count": 15,
      "outputs": [
        {
          "output_type": "execute_result",
          "data": {
            "text/plain": [
              "PassengerId      int64\n",
              "Pclass           int64\n",
              "Name            object\n",
              "Sex             object\n",
              "Age            float64\n",
              "SibSp            int64\n",
              "Parch            int64\n",
              "Ticket          object\n",
              "Fare           float64\n",
              "Cabin           object\n",
              "Embarked        object\n",
              "dtype: object"
            ]
          },
          "metadata": {
            "tags": []
          },
          "execution_count": 15
        }
      ]
    },
    {
      "cell_type": "code",
      "metadata": {
        "id": "92kRXOIvarsj"
      },
      "source": [
        "my_dtype = {'sales':object,\n",
        "            'salary':object} ##!!!変更箇所\n",
        "ohe_cols = ['sales',\n",
        "           'salary'] #!!!変更箇所"
      ],
      "execution_count": null,
      "outputs": []
    },
    {
      "cell_type": "code",
      "metadata": {
        "id": "hVQqH6vILpfW",
        "colab": {
          "base_uri": "https://localhost:8080/"
        },
        "outputId": "73200099-9b69-487d-b597-769a233b1b1f"
      },
      "source": [
        "#  モデル用データ読み込み\n",
        "df = pd.read_csv('./input/'+ file_model_name + '.csv',\n",
        "                 header=0,\n",
        "                 dtype=my_dtype)\n",
        "ID = df.iloc[:,0] #1列目取得\n",
        "y=df.iloc[:,1]    #2列目の正解データを取得\n",
        "X=df.iloc[:,2:]   #3列目以降取得\n",
        "df.dtypes"
      ],
      "execution_count": null,
      "outputs": [
        {
          "output_type": "execute_result",
          "data": {
            "text/plain": [
              "index                      int64\n",
              "left                       int64\n",
              "satisfaction_level       float64\n",
              "last_evaluation          float64\n",
              "number_project             int64\n",
              "average_montly_hours       int64\n",
              "time_spend_company         int64\n",
              "Work_accident              int64\n",
              "promotion_last_5years      int64\n",
              "sales                     object\n",
              "salary                    object\n",
              "dtype: object"
            ]
          },
          "metadata": {
            "tags": []
          },
          "execution_count": 6
        }
      ]
    },
    {
      "cell_type": "code",
      "metadata": {
        "id": "-V7URkHE3tpA"
      },
      "source": [
        "# one-hot encoding処理\n",
        "X_ohe = pd.get_dummies(X, dummy_na=True, columns=ohe_cols)\n",
        "#display(X_ohe)\n",
        "X_ohe = X_ohe.dropna(axis=1,how='all')#axis=1　列\n",
        "#display(X_ohe)\n",
        "X_ohe_columns = X_ohe.columns.values #モデルデータの列確定"
      ],
      "execution_count": null,
      "outputs": []
    },
    {
      "cell_type": "code",
      "metadata": {
        "id": "4cyhrJ1SZ7oA"
      },
      "source": [
        "#欠損値の置き換え\n",
        "imp=SimpleImputer() #平均値で欠損値を補完\n",
        "imp.fit(X_ohe)\n",
        "X_ohe = pd.DataFrame(imp.transform(X_ohe),columns=X_ohe_columns) # モデルデータの列を平均値補完適用させ変数を更新"
      ],
      "execution_count": null,
      "outputs": []
    },
    {
      "cell_type": "code",
      "metadata": {
        "id": "tkqwSbCicgUI"
      },
      "source": [
        "#特徴量抽出\n",
        "selector = RFECV(estimator=RandomForestClassifier(n_estimators=100,random_state=0), step=0.05) #特徴量をRFE(主成分分析)を用いて次元削減する。(モデルはランダムフォレスト)\n",
        "selector.fit(X_ohe, y) #RFEした結果を保存\n",
        "X_ohe_selected = selector.transform(X_ohe) #X_oheに反映\n",
        "X_ohe_selected = pd.DataFrame(X_ohe_selected, columns=X_ohe_columns[selector.support_]) #削減実行後のデータを再構成"
      ],
      "execution_count": null,
      "outputs": []
    },
    {
      "cell_type": "markdown",
      "metadata": {
        "id": "TGv3gF31r2Kp"
      },
      "source": [
        "**モデリング**"
      ]
    },
    {
      "cell_type": "code",
      "metadata": {
        "id": "0vZzO1yQr8aV"
      },
      "source": [
        "#アルゴリズム定義\n",
        "#model_name = 'GBC_001'\n",
        "'''\n",
        "clf = Pipeline([('scl',StandardScaler()), \n",
        "                ('est',GradientBoostingClassifier(random_state=1))\n",
        "                ])\n",
        "'''\n",
        "# set pipelines for different algorithms\n",
        "pipelines = {\n",
        "    'knn':\n",
        "       Pipeline([('scl',StandardScaler()),\n",
        "                  ('est',KNeighborsClassifier())]),\n",
        "    'logistic':\n",
        "        Pipeline([('scl',StandardScaler()),\n",
        "                  ('est',LogisticRegression(random_state=1))]),\n",
        "    'rsvc':\n",
        "        Pipeline([('scl',StandardScaler()),\n",
        "                  ('est',SVC(C=1.0, kernel='rbf', class_weight='balanced', random_state=1,probability = True))]),\n",
        "    'lsvc':\n",
        "        Pipeline([('scl',StandardScaler()),\n",
        "                  ('est',SVC(C=1.0, kernel='linear', class_weight='balanced', random_state=1,probability = True))]),\n",
        "    'tree':\n",
        "        Pipeline([('scl',StandardScaler()),\n",
        "                  ('est',DecisionTreeClassifier(random_state=1))]),\n",
        "    'rf':\n",
        "        Pipeline([('scl',StandardScaler()),\n",
        "                  ('est',RandomForestClassifier(random_state=1))]),\n",
        "    'gb':\n",
        "        Pipeline([('scl',StandardScaler()),\n",
        "                  ('est',GradientBoostingClassifier(random_state=1))]),\n",
        "    'lgb':\n",
        "        Pipeline([('scl',StandardScaler()),\n",
        "                  ('lgb',lgb.LGBMClassifier())]),\n",
        "    'mlp': #ニューラルネットワーク\n",
        "        Pipeline([('scl',StandardScaler()),\n",
        "                  ('est',MLPClassifier(hidden_layer_sizes=(3,3),\n",
        "                                       max_iter=1000,\n",
        "                                       random_state=1))])\n",
        "}"
      ],
      "execution_count": null,
      "outputs": []
    },
    {
      "cell_type": "markdown",
      "metadata": {
        "id": "OUrT3pvjOXqW"
      },
      "source": [
        "**評価データ作成(Holdアウト法)**\n"
      ]
    },
    {
      "cell_type": "code",
      "metadata": {
        "id": "z8g0F3XpOfc6"
      },
      "source": [
        "#Holdアウト法\n",
        "from sklearn.model_selection import train_test_split"
      ],
      "execution_count": null,
      "outputs": []
    },
    {
      "cell_type": "code",
      "metadata": {
        "id": "Hp7dA7FTOtZu"
      },
      "source": [
        "# holdout法のテストデータ作成\n",
        "X_train,X_test,y_train,y_test=train_test_split(X_ohe_selected,\n",
        "                                               y,\n",
        "                                               test_size=0.3,\n",
        "                                               random_state=1)"
      ],
      "execution_count": null,
      "outputs": []
    },
    {
      "cell_type": "code",
      "metadata": {
        "id": "VlwlWr-ysIpu"
      },
      "source": [
        "#Holdout法を用いて評価\n",
        "scores = {}\n",
        "for pipe_name, pipeline in pipelines.items():\n",
        "    pipeline.fit(X_train, y_train)\n",
        "    scores[(pipe_name,'train')] = accuracy_score(y_train, pipeline.predict(X_train))\n",
        "    scores[(pipe_name,'test')] = accuracy_score(y_test, pipeline.predict(X_test))"
      ],
      "execution_count": null,
      "outputs": []
    },
    {
      "cell_type": "code",
      "metadata": {
        "id": "gDudpxL6PeGg",
        "colab": {
          "base_uri": "https://localhost:8080/",
          "height": 316
        },
        "outputId": "618ef29d-347f-44a1-934c-e5dd60b869f7"
      },
      "source": [
        "pd.Series(scores).unstack()"
      ],
      "execution_count": null,
      "outputs": [
        {
          "output_type": "execute_result",
          "data": {
            "text/html": [
              "<div>\n",
              "<style scoped>\n",
              "    .dataframe tbody tr th:only-of-type {\n",
              "        vertical-align: middle;\n",
              "    }\n",
              "\n",
              "    .dataframe tbody tr th {\n",
              "        vertical-align: top;\n",
              "    }\n",
              "\n",
              "    .dataframe thead th {\n",
              "        text-align: right;\n",
              "    }\n",
              "</style>\n",
              "<table border=\"1\" class=\"dataframe\">\n",
              "  <thead>\n",
              "    <tr style=\"text-align: right;\">\n",
              "      <th></th>\n",
              "      <th>test</th>\n",
              "      <th>train</th>\n",
              "    </tr>\n",
              "  </thead>\n",
              "  <tbody>\n",
              "    <tr>\n",
              "      <th>gb</th>\n",
              "      <td>0.973333</td>\n",
              "      <td>0.976187</td>\n",
              "    </tr>\n",
              "    <tr>\n",
              "      <th>knn</th>\n",
              "      <td>0.966667</td>\n",
              "      <td>0.973194</td>\n",
              "    </tr>\n",
              "    <tr>\n",
              "      <th>lgb</th>\n",
              "      <td>0.983810</td>\n",
              "      <td>0.996326</td>\n",
              "    </tr>\n",
              "    <tr>\n",
              "      <th>logistic</th>\n",
              "      <td>0.766984</td>\n",
              "      <td>0.767860</td>\n",
              "    </tr>\n",
              "    <tr>\n",
              "      <th>lsvc</th>\n",
              "      <td>0.745397</td>\n",
              "      <td>0.744727</td>\n",
              "    </tr>\n",
              "    <tr>\n",
              "      <th>mlp</th>\n",
              "      <td>0.958095</td>\n",
              "      <td>0.959586</td>\n",
              "    </tr>\n",
              "    <tr>\n",
              "      <th>rf</th>\n",
              "      <td>0.987619</td>\n",
              "      <td>0.999864</td>\n",
              "    </tr>\n",
              "    <tr>\n",
              "      <th>rsvc</th>\n",
              "      <td>0.962540</td>\n",
              "      <td>0.964485</td>\n",
              "    </tr>\n",
              "    <tr>\n",
              "      <th>tree</th>\n",
              "      <td>0.975238</td>\n",
              "      <td>0.999864</td>\n",
              "    </tr>\n",
              "  </tbody>\n",
              "</table>\n",
              "</div>"
            ],
            "text/plain": [
              "              test     train\n",
              "gb        0.973333  0.976187\n",
              "knn       0.966667  0.973194\n",
              "lgb       0.983810  0.996326\n",
              "logistic  0.766984  0.767860\n",
              "lsvc      0.745397  0.744727\n",
              "mlp       0.958095  0.959586\n",
              "rf        0.987619  0.999864\n",
              "rsvc      0.962540  0.964485\n",
              "tree      0.975238  0.999864"
            ]
          },
          "metadata": {
            "tags": []
          },
          "execution_count": 17
        }
      ]
    },
    {
      "cell_type": "markdown",
      "metadata": {
        "id": "H7GRLTYfSUGl"
      },
      "source": [
        "**交叉検証**</br>\n",
        "入力データ：X_ohe_selected</br>\n",
        "　　　　　　y"
      ]
    },
    {
      "cell_type": "code",
      "metadata": {
        "id": "FFzVdD34SeZw"
      },
      "source": [
        "from sklearn.model_selection import cross_val_score, KFold\n",
        "from scipy.stats import sem"
      ],
      "execution_count": null,
      "outputs": []
    },
    {
      "cell_type": "code",
      "metadata": {
        "id": "y8fs9uDFTTjM"
      },
      "source": [
        "#交叉検証評価"
      ],
      "execution_count": null,
      "outputs": []
    },
    {
      "cell_type": "code",
      "metadata": {
        "id": "UL_Ui90zTYQU",
        "colab": {
          "base_uri": "https://localhost:8080/"
        },
        "outputId": "06e9ae89-2668-48e3-da69-c9f15ed218a8"
      },
      "source": [
        "scores = {}\n",
        "cv = KFold(5,shuffle=True,random_state=0)\n",
        "for pipe_name, pipeline in pipelines.items():\n",
        "  scores = cross_val_score(pipeline,X_ohe_selected,y,cv=cv)\n",
        "  print(pipe_name)\n",
        "  print(scores)\n",
        "  print (\"Mean score: {} (+/-{})\".format( np.mean (scores), sem(scores)))"
      ],
      "execution_count": null,
      "outputs": [
        {
          "output_type": "stream",
          "text": [
            "knn\n",
            "[0.96428571 0.97142857 0.96571429 0.97047619 0.96950929]\n",
            "Mean score: 0.9682828104085847 (+/-0.0013925709598363188)\n",
            "logistic\n",
            "[0.77380952 0.75428571 0.77666667 0.76142857 0.76083849]\n",
            "Mean score: 0.7654057941423353 (+/-0.004229448100462686)\n",
            "rsvc\n",
            "[0.95857143 0.96714286 0.96       0.96571429 0.96379228]\n",
            "Mean score: 0.9630441706935275 (+/-0.0016395245152398877)\n",
            "lsvc\n",
            "[0.74       0.75571429 0.75142857 0.73619048 0.75083373]\n",
            "Mean score: 0.7468334127362235 (+/-0.003714536022130408)\n",
            "tree\n",
            "[0.98       0.97857143 0.97619048 0.97380952 0.97713197]\n",
            "Mean score: 0.9771406792350099 (+/-0.0010540948033235437)\n",
            "rf\n",
            "[0.98904762 0.99       0.99       0.99       0.99047165]\n",
            "Mean score: 0.9899038544431589 (+/-0.00023273013868065897)\n",
            "gb\n",
            "[0.96761905 0.98047619 0.97285714 0.97904762 0.97379705]\n",
            "Mean score: 0.9747594092424965 (+/-0.002308677707289086)\n",
            "lgb\n",
            "[0.98095238 0.98809524 0.9847619  0.98809524 0.98808957]\n",
            "Mean score: 0.9859988656729962 (+/-0.0014169979671499117)\n",
            "mlp\n",
            "[0.95428571 0.96190476 0.9552381  0.96190476 0.9561696 ]\n",
            "Mean score: 0.9579005875813881 (+/-0.0016616151873859086)\n"
          ],
          "name": "stdout"
        }
      ]
    },
    {
      "cell_type": "code",
      "metadata": {
        "id": "cU2rDRDUspxI"
      },
      "source": [
        "#モデル保存\n",
        "for pipe_name, pipeline in pipelines.items():\n",
        "  filename=pipe_name + '.joblib'\n",
        "  joblib.dump('./output/'+ pipe_name, filename)"
      ],
      "execution_count": null,
      "outputs": []
    },
    {
      "cell_type": "code",
      "metadata": {
        "id": "08W2m0Bz7tFo"
      },
      "source": [
        ""
      ],
      "execution_count": null,
      "outputs": []
    }
  ]
}