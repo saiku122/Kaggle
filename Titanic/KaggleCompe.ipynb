{
  "nbformat": 4,
  "nbformat_minor": 0,
  "metadata": {
    "colab": {
      "name": "LatstTask.ipynb のコピー",
      "provenance": [],
      "collapsed_sections": [],
      "toc_visible": true,
      "authorship_tag": "ABX9TyNMcOLaXeIMERtsCWOoEgX6",
      "include_colab_link": true
    },
    "kernelspec": {
      "name": "python3",
      "display_name": "Python 3"
    },
    "language_info": {
      "name": "python"
    }
  },
  "cells": [
    {
      "cell_type": "markdown",
      "metadata": {
        "id": "view-in-github",
        "colab_type": "text"
      },
      "source": [
        "<a href=\"https://colab.research.google.com/github/saiku122/Kaggle/blob/master/Titanic/KaggleCompe.ipynb\" target=\"_parent\"><img src=\"https://colab.research.google.com/assets/colab-badge.svg\" alt=\"Open In Colab\"/></a>"
      ]
    },
    {
      "cell_type": "markdown",
      "metadata": {
        "id": "DazQxFA8LTt2"
      },
      "source": [
        "★★最終課題★★</br>\n",
        "〇入力データ</br>\n",
        "・モデル用：train.csv</br>\n",
        "・スコア用：test.csv</br>\n",
        "</br>\n",
        "〇出力データ</br>\n",
        "・スコア付データ：</br> \n",
        "・モデル：</br>\n"
      ]
    },
    {
      "cell_type": "code",
      "metadata": {
        "id": "ANRgG95yLAAR"
      },
      "source": [
        "import pandas as pd\n",
        "import numpy as np\n",
        "from sklearn.preprocessing import StandardScaler\n",
        "from sklearn.impute import SimpleImputer\n",
        "from sklearn.feature_selection import RFECV\n",
        "from sklearn.model_selection import cross_val_score\n",
        "from sklearn.neighbors import KNeighborsClassifier\n",
        "from sklearn.linear_model import LogisticRegression\n",
        "from sklearn.svm import SVC, LinearSVC\n",
        "from sklearn.tree import DecisionTreeClassifier\n",
        "from sklearn.ensemble import RandomForestClassifier\n",
        "from sklearn.ensemble import GradientBoostingClassifier\n",
        "from sklearn.neural_network import MLPClassifier\n",
        "from sklearn.pipeline import Pipeline\n",
        "from sklearn.metrics import confusion_matrix\n",
        "import joblib\n",
        "from sklearn.metrics import accuracy_score\n",
        "import lightgbm as lgb"
      ],
      "execution_count": 175,
      "outputs": []
    },
    {
      "cell_type": "code",
      "metadata": {
        "id": "M6-5tNXiLa9v"
      },
      "source": [
        "#インプットファイル\n",
        "file_model_name = 'train.csv'\n",
        "file_test_name = 'test.csv'"
      ],
      "execution_count": 176,
      "outputs": []
    },
    {
      "cell_type": "code",
      "metadata": {
        "id": "FYIi3PbFXzC7"
      },
      "source": [
        "#一度データ取り込みを実施し、取り込みデータ型を確認\n",
        "df_train = pd.read_csv('./input/'+ file_model_name ,\n",
        "                 header=0\n",
        ")\n",
        "df_test = pd.read_csv('./input/'+ file_test_name ,\n",
        "                 header=0\n",
        ")\n"
      ],
      "execution_count": 177,
      "outputs": []
    },
    {
      "cell_type": "code",
      "metadata": {
        "id": "rmWy_KvhX9rf",
        "colab": {
          "base_uri": "https://localhost:8080/"
        },
        "outputId": "e9362527-e90f-433e-8929-8a6814c0eb8d"
      },
      "source": [
        "df_train.dtypes\n",
        "df_train.isnull().sum()"
      ],
      "execution_count": 178,
      "outputs": [
        {
          "output_type": "execute_result",
          "data": {
            "text/plain": [
              "PassengerId      0\n",
              "Survived         0\n",
              "Pclass           0\n",
              "Name             0\n",
              "Sex              0\n",
              "Age            177\n",
              "SibSp            0\n",
              "Parch            0\n",
              "Ticket           0\n",
              "Fare             0\n",
              "Cabin          687\n",
              "Embarked         2\n",
              "dtype: int64"
            ]
          },
          "metadata": {
            "tags": []
          },
          "execution_count": 178
        }
      ]
    },
    {
      "cell_type": "code",
      "metadata": {
        "colab": {
          "base_uri": "https://localhost:8080/"
        },
        "id": "ikHv4qhTXKFE",
        "outputId": "1289f5c4-817f-4279-b1b1-64e9b4b569b3"
      },
      "source": [
        "df_test.dtypes\n",
        "df_test.isnull().sum()"
      ],
      "execution_count": 179,
      "outputs": [
        {
          "output_type": "execute_result",
          "data": {
            "text/plain": [
              "PassengerId      0\n",
              "Pclass           0\n",
              "Name             0\n",
              "Sex              0\n",
              "Age             86\n",
              "SibSp            0\n",
              "Parch            0\n",
              "Ticket           0\n",
              "Fare             1\n",
              "Cabin          327\n",
              "Embarked         0\n",
              "dtype: int64"
            ]
          },
          "metadata": {
            "tags": []
          },
          "execution_count": 179
        }
      ]
    },
    {
      "cell_type": "markdown",
      "metadata": {
        "id": "J28Qu54vW2kh"
      },
      "source": [
        "■メモ</br>\n",
        "PassengerIdはいったん除外</br>\n",
        "Ticketは特徴量から除外</br>\n",
        "Cabinも欠損値多すぎのためいったん除外する</br>\n",
        "Nameは敬称でグルーピング(特徴量抽出)</br>\n",
        "\n",
        "■方針</br>\n",
        "〇欠損値補完方針</br>\n",
        "・age：Pclass毎の平均値で保管する</br>\n",
        "・Embarked：Sでうめる\n",
        "・Fare：平均値で保管する"
      ]
    },
    {
      "cell_type": "code",
      "metadata": {
        "colab": {
          "base_uri": "https://localhost:8080/",
          "height": 296
        },
        "id": "NjX9dMMoaqkF",
        "outputId": "88bb4e97-726a-406e-99b5-42fd6a79153c"
      },
      "source": [
        "# Nameから敬称(Title)を抽出し、グルーピング\n",
        "df_train['Title'] = df_train['Name'].map(lambda x: x.split(', ')[1].split('. ')[0])\n",
        "df_train['Title'].replace(['Capt', 'Col', 'Major', 'Dr', 'Rev'], 'Officer', inplace=True)\n",
        "df_train['Title'].replace(['Don', 'Sir',  'the Countess', 'Lady', 'Dona'], 'Royalty', inplace=True)\n",
        "df_train['Title'].replace(['Mme', 'Ms'], 'Mrs', inplace=True)\n",
        "df_train['Title'].replace(['Mlle'], 'Miss', inplace=True)\n",
        "df_train['Title'].replace(['Jonkheer'], 'Master', inplace=True)\n",
        "sns.barplot(x='Title', y='Survived', data=df_train, palette='Set3')"
      ],
      "execution_count": 180,
      "outputs": [
        {
          "output_type": "execute_result",
          "data": {
            "text/plain": [
              "<matplotlib.axes._subplots.AxesSubplot at 0x7f5ede26df90>"
            ]
          },
          "metadata": {
            "tags": []
          },
          "execution_count": 180
        },
        {
          "output_type": "display_data",
          "data": {
            "image/png": "[encoded data removed]",
            "text/plain": [
              "<Figure size 432x288 with 1 Axes>"
            ]
          },
          "metadata": {
            "tags": [],
            "needs_background": "light"
          }
        }
      ]
    },
    {
      "cell_type": "code",
      "metadata": {
        "id": "DJhAzzCYdev9"
      },
      "source": [
        "#欠損値処理(Embarked)\n",
        "df_train['Embarked']=df_train['Embarked'].fillna('S')"
      ],
      "execution_count": 181,
      "outputs": []
    },
    {
      "cell_type": "code",
      "metadata": {
        "id": "hVQqH6vILpfW",
        "colab": {
          "base_uri": "https://localhost:8080/"
        },
        "outputId": "6bd1c1ef-0f87-4cc9-dab7-8fc061e37805"
      },
      "source": [
        "#oheカラムの定義\n",
        "ohe_cols = ['Pclass',\n",
        "            'Sex',\n",
        "            'Embarked',\n",
        "            'Title']\n",
        "df_train = df_train.loc[:,['PassengerId','Survived','Pclass','Sex','Age','SibSp','Parch','Fare','Embarked','Title']]\n",
        "#  モデル用データ読み込み\n",
        "ID = df_train.iloc[:,0] #1列目取得\n",
        "y=df_train.iloc[:,1]    #2列目の正解データを取得\n",
        "X=df_train.iloc[:,2:]   #3列目以降取得\n",
        "df_train.dtypes"
      ],
      "execution_count": 182,
      "outputs": [
        {
          "output_type": "execute_result",
          "data": {
            "text/plain": [
              "PassengerId      int64\n",
              "Survived         int64\n",
              "Pclass           int64\n",
              "Sex             object\n",
              "Age            float64\n",
              "SibSp            int64\n",
              "Parch            int64\n",
              "Fare           float64\n",
              "Embarked        object\n",
              "Title           object\n",
              "dtype: object"
            ]
          },
          "metadata": {
            "tags": []
          },
          "execution_count": 182
        }
      ]
    },
    {
      "cell_type": "code",
      "metadata": {
        "id": "-V7URkHE3tpA"
      },
      "source": [
        "# one-hot encoding処理\n",
        "X_ohe = pd.get_dummies(X, dummy_na=True, columns=ohe_cols)\n",
        "#display(X_ohe)\n",
        "X_ohe = X_ohe.dropna(axis=1,how='all')#axis=1　列\n",
        "#display(X_ohe)\n",
        "X_ohe_columns = X_ohe.columns.values #モデルデータの列確定"
      ],
      "execution_count": 183,
      "outputs": []
    },
    {
      "cell_type": "code",
      "metadata": {
        "colab": {
          "base_uri": "https://localhost:8080/",
          "height": 224
        },
        "id": "cGuzslrefADs",
        "outputId": "a0306a9d-64be-4145-8b89-a7fd5efc876a"
      },
      "source": [
        "X_ohe.head()"
      ],
      "execution_count": 184,
      "outputs": [
        {
          "output_type": "execute_result",
          "data": {
            "text/html": [
              "<div>\n",
              "<style scoped>\n",
              "    .dataframe tbody tr th:only-of-type {\n",
              "        vertical-align: middle;\n",
              "    }\n",
              "\n",
              "    .dataframe tbody tr th {\n",
              "        vertical-align: top;\n",
              "    }\n",
              "\n",
              "    .dataframe thead th {\n",
              "        text-align: right;\n",
              "    }\n",
              "</style>\n",
              "<table border=\"1\" class=\"dataframe\">\n",
              "  <thead>\n",
              "    <tr style=\"text-align: right;\">\n",
              "      <th></th>\n",
              "      <th>Age</th>\n",
              "      <th>SibSp</th>\n",
              "      <th>Parch</th>\n",
              "      <th>Fare</th>\n",
              "      <th>Pclass_1.0</th>\n",
              "      <th>Pclass_2.0</th>\n",
              "      <th>Pclass_3.0</th>\n",
              "      <th>Pclass_nan</th>\n",
              "      <th>Sex_female</th>\n",
              "      <th>Sex_male</th>\n",
              "      <th>Sex_nan</th>\n",
              "      <th>Embarked_C</th>\n",
              "      <th>Embarked_Q</th>\n",
              "      <th>Embarked_S</th>\n",
              "      <th>Embarked_nan</th>\n",
              "      <th>Title_Master</th>\n",
              "      <th>Title_Miss</th>\n",
              "      <th>Title_Mr</th>\n",
              "      <th>Title_Mrs</th>\n",
              "      <th>Title_Officer</th>\n",
              "      <th>Title_Royalty</th>\n",
              "      <th>Title_nan</th>\n",
              "    </tr>\n",
              "  </thead>\n",
              "  <tbody>\n",
              "    <tr>\n",
              "      <th>0</th>\n",
              "      <td>22.0</td>\n",
              "      <td>1</td>\n",
              "      <td>0</td>\n",
              "      <td>7.2500</td>\n",
              "      <td>0</td>\n",
              "      <td>0</td>\n",
              "      <td>1</td>\n",
              "      <td>0</td>\n",
              "      <td>0</td>\n",
              "      <td>1</td>\n",
              "      <td>0</td>\n",
              "      <td>0</td>\n",
              "      <td>0</td>\n",
              "      <td>1</td>\n",
              "      <td>0</td>\n",
              "      <td>0</td>\n",
              "      <td>0</td>\n",
              "      <td>1</td>\n",
              "      <td>0</td>\n",
              "      <td>0</td>\n",
              "      <td>0</td>\n",
              "      <td>0</td>\n",
              "    </tr>\n",
              "    <tr>\n",
              "      <th>1</th>\n",
              "      <td>38.0</td>\n",
              "      <td>1</td>\n",
              "      <td>0</td>\n",
              "      <td>71.2833</td>\n",
              "      <td>1</td>\n",
              "      <td>0</td>\n",
              "      <td>0</td>\n",
              "      <td>0</td>\n",
              "      <td>1</td>\n",
              "      <td>0</td>\n",
              "      <td>0</td>\n",
              "      <td>1</td>\n",
              "      <td>0</td>\n",
              "      <td>0</td>\n",
              "      <td>0</td>\n",
              "      <td>0</td>\n",
              "      <td>0</td>\n",
              "      <td>0</td>\n",
              "      <td>1</td>\n",
              "      <td>0</td>\n",
              "      <td>0</td>\n",
              "      <td>0</td>\n",
              "    </tr>\n",
              "    <tr>\n",
              "      <th>2</th>\n",
              "      <td>26.0</td>\n",
              "      <td>0</td>\n",
              "      <td>0</td>\n",
              "      <td>7.9250</td>\n",
              "      <td>0</td>\n",
              "      <td>0</td>\n",
              "      <td>1</td>\n",
              "      <td>0</td>\n",
              "      <td>1</td>\n",
              "      <td>0</td>\n",
              "      <td>0</td>\n",
              "      <td>0</td>\n",
              "      <td>0</td>\n",
              "      <td>1</td>\n",
              "      <td>0</td>\n",
              "      <td>0</td>\n",
              "      <td>1</td>\n",
              "      <td>0</td>\n",
              "      <td>0</td>\n",
              "      <td>0</td>\n",
              "      <td>0</td>\n",
              "      <td>0</td>\n",
              "    </tr>\n",
              "    <tr>\n",
              "      <th>3</th>\n",
              "      <td>35.0</td>\n",
              "      <td>1</td>\n",
              "      <td>0</td>\n",
              "      <td>53.1000</td>\n",
              "      <td>1</td>\n",
              "      <td>0</td>\n",
              "      <td>0</td>\n",
              "      <td>0</td>\n",
              "      <td>1</td>\n",
              "      <td>0</td>\n",
              "      <td>0</td>\n",
              "      <td>0</td>\n",
              "      <td>0</td>\n",
              "      <td>1</td>\n",
              "      <td>0</td>\n",
              "      <td>0</td>\n",
              "      <td>0</td>\n",
              "      <td>0</td>\n",
              "      <td>1</td>\n",
              "      <td>0</td>\n",
              "      <td>0</td>\n",
              "      <td>0</td>\n",
              "    </tr>\n",
              "    <tr>\n",
              "      <th>4</th>\n",
              "      <td>35.0</td>\n",
              "      <td>0</td>\n",
              "      <td>0</td>\n",
              "      <td>8.0500</td>\n",
              "      <td>0</td>\n",
              "      <td>0</td>\n",
              "      <td>1</td>\n",
              "      <td>0</td>\n",
              "      <td>0</td>\n",
              "      <td>1</td>\n",
              "      <td>0</td>\n",
              "      <td>0</td>\n",
              "      <td>0</td>\n",
              "      <td>1</td>\n",
              "      <td>0</td>\n",
              "      <td>0</td>\n",
              "      <td>0</td>\n",
              "      <td>1</td>\n",
              "      <td>0</td>\n",
              "      <td>0</td>\n",
              "      <td>0</td>\n",
              "      <td>0</td>\n",
              "    </tr>\n",
              "  </tbody>\n",
              "</table>\n",
              "</div>"
            ],
            "text/plain": [
              "    Age  SibSp  Parch  ...  Title_Officer  Title_Royalty  Title_nan\n",
              "0  22.0      1      0  ...              0              0          0\n",
              "1  38.0      1      0  ...              0              0          0\n",
              "2  26.0      0      0  ...              0              0          0\n",
              "3  35.0      1      0  ...              0              0          0\n",
              "4  35.0      0      0  ...              0              0          0\n",
              "\n",
              "[5 rows x 22 columns]"
            ]
          },
          "metadata": {
            "tags": []
          },
          "execution_count": 184
        }
      ]
    },
    {
      "cell_type": "code",
      "metadata": {
        "id": "4cyhrJ1SZ7oA"
      },
      "source": [
        "#欠損値の置き換え\n",
        "imp=SimpleImputer() #平均値で欠損値を補完\n",
        "imp.fit(X_ohe)\n",
        "X_ohe = pd.DataFrame(imp.transform(X_ohe),columns=X_ohe_columns) # モデルデータの列を平均値補完適用させ変数を更新"
      ],
      "execution_count": 185,
      "outputs": []
    },
    {
      "cell_type": "code",
      "metadata": {
        "id": "tkqwSbCicgUI"
      },
      "source": [
        "#特徴量抽出\n",
        "selector = RFECV(estimator=RandomForestClassifier(n_estimators=100,random_state=0), step=0.05) #特徴量をRFE(主成分分析)を用いて次元削減する。(モデルはランダムフォレスト)\n",
        "selector.fit(X_ohe, y) #RFEした結果を保存\n",
        "X_ohe_selected = selector.transform(X_ohe) #X_oheに反映\n",
        "X_ohe_selected = pd.DataFrame(X_ohe_selected, columns=X_ohe_columns[selector.support_]) #削減実行後のデータを再構成"
      ],
      "execution_count": 186,
      "outputs": []
    },
    {
      "cell_type": "code",
      "metadata": {
        "colab": {
          "base_uri": "https://localhost:8080/"
        },
        "id": "v_-0veaWf33P",
        "outputId": "77321c83-8931-4ff2-b0e4-f318b673a423"
      },
      "source": [
        "selector.support_"
      ],
      "execution_count": 187,
      "outputs": [
        {
          "output_type": "execute_result",
          "data": {
            "text/plain": [
              "array([ True,  True,  True,  True,  True,  True,  True, False,  True,\n",
              "        True, False,  True,  True,  True,  True,  True,  True,  True,\n",
              "        True,  True,  True, False])"
            ]
          },
          "metadata": {
            "tags": []
          },
          "execution_count": 187
        }
      ]
    },
    {
      "cell_type": "markdown",
      "metadata": {
        "id": "TGv3gF31r2Kp"
      },
      "source": [
        "**モデリング**"
      ]
    },
    {
      "cell_type": "code",
      "metadata": {
        "id": "0vZzO1yQr8aV"
      },
      "source": [
        "# set pipelines for different algorithms\n",
        "pipelines = {\n",
        "    'knn':\n",
        "       Pipeline([('scl',StandardScaler()),\n",
        "                  ('est',KNeighborsClassifier())]),\n",
        "    'logistic':\n",
        "        Pipeline([('scl',StandardScaler()),\n",
        "                  ('est',LogisticRegression(random_state=1))]),\n",
        "    'rsvc':\n",
        "        Pipeline([('scl',StandardScaler()),\n",
        "                  ('est',SVC(C=1.0, kernel='rbf', class_weight='balanced', random_state=1,probability = True))]),\n",
        "    'lsvc':\n",
        "        Pipeline([('scl',StandardScaler()),\n",
        "                  ('est',SVC(C=1.0, kernel='linear', class_weight='balanced', random_state=1,probability = True))]),\n",
        "    'tree':\n",
        "        Pipeline([('scl',StandardScaler()),\n",
        "                  ('est',DecisionTreeClassifier(random_state=1))]),\n",
        "    'rf':\n",
        "        Pipeline([('scl',StandardScaler()),\n",
        "                  ('est',RandomForestClassifier(random_state=1))]),\n",
        "    'gb':\n",
        "        Pipeline([('scl',StandardScaler()),\n",
        "                  ('est',GradientBoostingClassifier(random_state=1))]),\n",
        "    'lgb':\n",
        "        Pipeline([('scl',StandardScaler()),\n",
        "                  ('lgb',lgb.LGBMClassifier())]),\n",
        "    'mlp': #ニューラルネットワーク\n",
        "        Pipeline([('scl',StandardScaler()),\n",
        "                  ('est',MLPClassifier(hidden_layer_sizes=(3,3),\n",
        "                                       max_iter=1000,\n",
        "                                       random_state=1))])\n",
        "}"
      ],
      "execution_count": 188,
      "outputs": []
    },
    {
      "cell_type": "markdown",
      "metadata": {
        "id": "OUrT3pvjOXqW"
      },
      "source": [
        "**評価データ作成(Holdアウト法)**\n"
      ]
    },
    {
      "cell_type": "code",
      "metadata": {
        "id": "z8g0F3XpOfc6"
      },
      "source": [
        "#Holdアウト法\n",
        "from sklearn.model_selection import train_test_split"
      ],
      "execution_count": 189,
      "outputs": []
    },
    {
      "cell_type": "code",
      "metadata": {
        "id": "Hp7dA7FTOtZu"
      },
      "source": [
        "# holdout法のテストデータ作成\n",
        "X_train,X_test,y_train,y_test=train_test_split(X_ohe_selected,\n",
        "                                               y,\n",
        "                                               test_size=0.3,\n",
        "                                               random_state=1)"
      ],
      "execution_count": 190,
      "outputs": []
    },
    {
      "cell_type": "code",
      "metadata": {
        "id": "VlwlWr-ysIpu"
      },
      "source": [
        "#Holdout法を用いて評価\n",
        "scores = {}\n",
        "for pipe_name, pipeline in pipelines.items():\n",
        "    pipeline.fit(X_train, y_train)\n",
        "    scores[(pipe_name,'train')] = accuracy_score(y_train, pipeline.predict(X_train))\n",
        "    scores[(pipe_name,'test')] = accuracy_score(y_test, pipeline.predict(X_test))"
      ],
      "execution_count": 191,
      "outputs": []
    },
    {
      "cell_type": "code",
      "metadata": {
        "id": "gDudpxL6PeGg",
        "colab": {
          "base_uri": "https://localhost:8080/",
          "height": 328
        },
        "outputId": "1dcc02ff-8d8e-4294-d1a6-895322fb368b"
      },
      "source": [
        "pd.Series(scores).unstack()"
      ],
      "execution_count": 192,
      "outputs": [
        {
          "output_type": "execute_result",
          "data": {
            "text/html": [
              "<div>\n",
              "<style scoped>\n",
              "    .dataframe tbody tr th:only-of-type {\n",
              "        vertical-align: middle;\n",
              "    }\n",
              "\n",
              "    .dataframe tbody tr th {\n",
              "        vertical-align: top;\n",
              "    }\n",
              "\n",
              "    .dataframe thead th {\n",
              "        text-align: right;\n",
              "    }\n",
              "</style>\n",
              "<table border=\"1\" class=\"dataframe\">\n",
              "  <thead>\n",
              "    <tr style=\"text-align: right;\">\n",
              "      <th></th>\n",
              "      <th>test</th>\n",
              "      <th>train</th>\n",
              "    </tr>\n",
              "  </thead>\n",
              "  <tbody>\n",
              "    <tr>\n",
              "      <th>gb</th>\n",
              "      <td>0.779851</td>\n",
              "      <td>0.914928</td>\n",
              "    </tr>\n",
              "    <tr>\n",
              "      <th>knn</th>\n",
              "      <td>0.779851</td>\n",
              "      <td>0.869984</td>\n",
              "    </tr>\n",
              "    <tr>\n",
              "      <th>lgb</th>\n",
              "      <td>0.772388</td>\n",
              "      <td>0.951846</td>\n",
              "    </tr>\n",
              "    <tr>\n",
              "      <th>logistic</th>\n",
              "      <td>0.798507</td>\n",
              "      <td>0.850722</td>\n",
              "    </tr>\n",
              "    <tr>\n",
              "      <th>lsvc</th>\n",
              "      <td>0.761194</td>\n",
              "      <td>0.821830</td>\n",
              "    </tr>\n",
              "    <tr>\n",
              "      <th>mlp</th>\n",
              "      <td>0.779851</td>\n",
              "      <td>0.831461</td>\n",
              "    </tr>\n",
              "    <tr>\n",
              "      <th>rf</th>\n",
              "      <td>0.761194</td>\n",
              "      <td>0.990369</td>\n",
              "    </tr>\n",
              "    <tr>\n",
              "      <th>rsvc</th>\n",
              "      <td>0.791045</td>\n",
              "      <td>0.858748</td>\n",
              "    </tr>\n",
              "    <tr>\n",
              "      <th>tree</th>\n",
              "      <td>0.753731</td>\n",
              "      <td>0.990369</td>\n",
              "    </tr>\n",
              "  </tbody>\n",
              "</table>\n",
              "</div>"
            ],
            "text/plain": [
              "              test     train\n",
              "gb        0.779851  0.914928\n",
              "knn       0.779851  0.869984\n",
              "lgb       0.772388  0.951846\n",
              "logistic  0.798507  0.850722\n",
              "lsvc      0.761194  0.821830\n",
              "mlp       0.779851  0.831461\n",
              "rf        0.761194  0.990369\n",
              "rsvc      0.791045  0.858748\n",
              "tree      0.753731  0.990369"
            ]
          },
          "metadata": {
            "tags": []
          },
          "execution_count": 192
        }
      ]
    },
    {
      "cell_type": "markdown",
      "metadata": {
        "id": "H7GRLTYfSUGl"
      },
      "source": [
        "**交叉検証**</br>\n",
        "入力データ：X_ohe_selected</br>\n",
        "　　　　　　y"
      ]
    },
    {
      "cell_type": "code",
      "metadata": {
        "id": "FFzVdD34SeZw"
      },
      "source": [
        "from sklearn.model_selection import cross_val_score, KFold\n",
        "from scipy.stats import sem"
      ],
      "execution_count": 193,
      "outputs": []
    },
    {
      "cell_type": "code",
      "metadata": {
        "id": "y8fs9uDFTTjM"
      },
      "source": [
        "#交叉検証評価"
      ],
      "execution_count": 194,
      "outputs": []
    },
    {
      "cell_type": "code",
      "metadata": {
        "id": "UL_Ui90zTYQU",
        "colab": {
          "base_uri": "https://localhost:8080/"
        },
        "outputId": "cd9cb214-e42b-4973-832e-5212bc1a84e0"
      },
      "source": [
        "scores = {}\n",
        "cv = KFold(5,shuffle=True,random_state=0)\n",
        "for pipe_name, pipeline in pipelines.items():\n",
        "  scores = cross_val_score(pipeline,X_ohe_selected,y,cv=cv)\n",
        "  print(pipe_name)\n",
        "  print(scores)\n",
        "  print (\"Mean score: {} (+/-{})\".format( np.mean (scores), sem(scores)))"
      ],
      "execution_count": 195,
      "outputs": [
        {
          "output_type": "stream",
          "text": [
            "knn\n",
            "[0.80446927 0.80337079 0.83146067 0.81460674 0.80337079]\n",
            "Mean score: 0.8114556525014123 (+/-0.00542987043087707)\n",
            "logistic\n",
            "[0.81564246 0.81460674 0.8258427  0.84831461 0.83146067]\n",
            "Mean score: 0.8271734354403364 (+/-0.006156239269037916)\n",
            "rsvc\n",
            "[0.81564246 0.8258427  0.80337079 0.79775281 0.85393258]\n",
            "Mean score: 0.8193082669010107 (+/-0.009933834421011516)\n",
            "lsvc\n",
            "[0.7877095  0.80337079 0.79213483 0.82022472 0.83707865]\n",
            "Mean score: 0.8081036971941498 (+/-0.009164594015175853)\n",
            "tree\n",
            "[0.75418994 0.80337079 0.78089888 0.76966292 0.75842697]\n",
            "Mean score: 0.7733098989391751 (+/-0.008836357684024822)\n",
            "rf\n",
            "[0.82122905 0.79775281 0.8258427  0.81460674 0.78651685]\n",
            "Mean score: 0.809189630280585 (+/-0.007404299480910666)\n",
            "gb\n",
            "[0.84916201 0.80898876 0.85393258 0.8258427  0.80337079]\n",
            "Mean score: 0.8282593685267716 (+/-0.010229057852032517)\n",
            "lgb\n",
            "[0.82681564 0.78651685 0.84831461 0.79775281 0.79775281]\n",
            "Mean score: 0.8114305442219572 (+/-0.011384173579448294)\n",
            "mlp\n",
            "[0.81005587 0.81460674 0.7752809  0.83707865 0.80898876]\n",
            "Mean score: 0.8092021844203126 (+/-0.009893772279853818)\n"
          ],
          "name": "stdout"
        }
      ]
    },
    {
      "cell_type": "code",
      "metadata": {
        "id": "cU2rDRDUspxI"
      },
      "source": [
        "#モデル保存\n",
        "for pipe_name, pipeline in pipelines.items():\n",
        "  filename=pipe_name + '.joblib'\n",
        "  joblib.dump('./output/'+ pipe_name, filename)"
      ],
      "execution_count": 196,
      "outputs": []
    },
    {
      "cell_type": "markdown",
      "metadata": {
        "id": "UeCaSKIJiG2V"
      },
      "source": [
        "テストデータの加工"
      ]
    },
    {
      "cell_type": "code",
      "metadata": {
        "id": "RWdQ2oiNjM8a"
      },
      "source": [
        "# Nameから敬称(Title)を抽出し、グルーピング\n",
        "df_test['Title'] = df_test['Name'].map(lambda x: x.split(', ')[1].split('. ')[0])\n",
        "df_test['Title'].replace(['Capt', 'Col', 'Major', 'Dr', 'Rev'], 'Officer', inplace=True)\n",
        "df_test['Title'].replace(['Don', 'Sir',  'the Countess', 'Lady', 'Dona'], 'Royalty', inplace=True)\n",
        "df_test['Title'].replace(['Mme', 'Ms'], 'Mrs', inplace=True)\n",
        "df_test['Title'].replace(['Mlle'], 'Miss', inplace=True)\n",
        "df_test['Title'].replace(['Jonkheer'], 'Master', inplace=True)"
      ],
      "execution_count": 197,
      "outputs": []
    },
    {
      "cell_type": "code",
      "metadata": {
        "id": "ft8yMqhejRUn"
      },
      "source": [
        "df_test['Embarked']=df_test['Embarked'].fillna('S')"
      ],
      "execution_count": 198,
      "outputs": []
    },
    {
      "cell_type": "code",
      "metadata": {
        "id": "TN2uFpnPj5Q8"
      },
      "source": [
        "df_test = df_test.loc[:,['PassengerId','Pclass','Sex','Age','SibSp','Parch','Fare','Embarked','Title']]\n",
        "#  モデル用データ読み込み\n",
        "ID_s = df_test.iloc[:,0] #1列目取得\n",
        "X_s=df_test.iloc[:,1:]   #2列目以降取得"
      ],
      "execution_count": 199,
      "outputs": []
    },
    {
      "cell_type": "code",
      "metadata": {
        "id": "rPsW8gzvkpHk"
      },
      "source": [
        "# one-hot encoding処理\n",
        "X_ohe_s = pd.get_dummies(X_s, dummy_na=True, columns=ohe_cols)\n",
        "#display(X_ohe)\n",
        "X_ohe_s = X_ohe_s.dropna(axis=1,how='all')#axis=1　列\n",
        "#display(X_ohe)\n",
        "X_ohe_columns_s = X_ohe_s.columns.values #テストデータの仮確定"
      ],
      "execution_count": 200,
      "outputs": []
    },
    {
      "cell_type": "markdown",
      "metadata": {
        "id": "ziAxK2eFlP0w"
      },
      "source": [
        "※ここで列整合性が合致していることを確認"
      ]
    },
    {
      "cell_type": "code",
      "metadata": {
        "colab": {
          "base_uri": "https://localhost:8080/"
        },
        "id": "-A013IhclKYV",
        "outputId": "c3d70f09-6c2a-46b5-e5ef-192f3fd12f7e"
      },
      "source": [
        "#列の整合性チェック\n",
        "cols_model = set(X_ohe.columns.values)\n",
        "cols_score = set(X_ohe_s.columns.values)\n",
        "\n",
        "diff1 = cols_model - cols_score\n",
        "print('モデルのみに存在する項目: %s' % diff1)\n",
        "\n",
        "diff2 = cols_score - cols_model\n",
        "print('スコアのみに存在する項目: %s' % diff2)"
      ],
      "execution_count": 201,
      "outputs": [
        {
          "output_type": "stream",
          "text": [
            "モデルのみに存在する項目: set()\n",
            "スコアのみに存在する項目: set()\n"
          ],
          "name": "stdout"
        }
      ]
    },
    {
      "cell_type": "code",
      "metadata": {
        "colab": {
          "base_uri": "https://localhost:8080/",
          "height": 162
        },
        "id": "z84BK9NWlM3z",
        "outputId": "f798a876-eb49-4e43-faaa-394983a03661"
      },
      "source": [
        "#ソート順の統一\n",
        "X_ohe_s2 = X_ohe_s.reindex(X_ohe.columns.values,axis=1)\n",
        "X_ohe_s2.head(3)"
      ],
      "execution_count": 202,
      "outputs": [
        {
          "output_type": "execute_result",
          "data": {
            "text/html": [
              "<div>\n",
              "<style scoped>\n",
              "    .dataframe tbody tr th:only-of-type {\n",
              "        vertical-align: middle;\n",
              "    }\n",
              "\n",
              "    .dataframe tbody tr th {\n",
              "        vertical-align: top;\n",
              "    }\n",
              "\n",
              "    .dataframe thead th {\n",
              "        text-align: right;\n",
              "    }\n",
              "</style>\n",
              "<table border=\"1\" class=\"dataframe\">\n",
              "  <thead>\n",
              "    <tr style=\"text-align: right;\">\n",
              "      <th></th>\n",
              "      <th>Age</th>\n",
              "      <th>SibSp</th>\n",
              "      <th>Parch</th>\n",
              "      <th>Fare</th>\n",
              "      <th>Pclass_1.0</th>\n",
              "      <th>Pclass_2.0</th>\n",
              "      <th>Pclass_3.0</th>\n",
              "      <th>Pclass_nan</th>\n",
              "      <th>Sex_female</th>\n",
              "      <th>Sex_male</th>\n",
              "      <th>Sex_nan</th>\n",
              "      <th>Embarked_C</th>\n",
              "      <th>Embarked_Q</th>\n",
              "      <th>Embarked_S</th>\n",
              "      <th>Embarked_nan</th>\n",
              "      <th>Title_Master</th>\n",
              "      <th>Title_Miss</th>\n",
              "      <th>Title_Mr</th>\n",
              "      <th>Title_Mrs</th>\n",
              "      <th>Title_Officer</th>\n",
              "      <th>Title_Royalty</th>\n",
              "      <th>Title_nan</th>\n",
              "    </tr>\n",
              "  </thead>\n",
              "  <tbody>\n",
              "    <tr>\n",
              "      <th>0</th>\n",
              "      <td>34.5</td>\n",
              "      <td>0</td>\n",
              "      <td>0</td>\n",
              "      <td>7.8292</td>\n",
              "      <td>0</td>\n",
              "      <td>0</td>\n",
              "      <td>1</td>\n",
              "      <td>0</td>\n",
              "      <td>0</td>\n",
              "      <td>1</td>\n",
              "      <td>0</td>\n",
              "      <td>0</td>\n",
              "      <td>1</td>\n",
              "      <td>0</td>\n",
              "      <td>0</td>\n",
              "      <td>0</td>\n",
              "      <td>0</td>\n",
              "      <td>1</td>\n",
              "      <td>0</td>\n",
              "      <td>0</td>\n",
              "      <td>0</td>\n",
              "      <td>0</td>\n",
              "    </tr>\n",
              "    <tr>\n",
              "      <th>1</th>\n",
              "      <td>47.0</td>\n",
              "      <td>1</td>\n",
              "      <td>0</td>\n",
              "      <td>7.0000</td>\n",
              "      <td>0</td>\n",
              "      <td>0</td>\n",
              "      <td>1</td>\n",
              "      <td>0</td>\n",
              "      <td>1</td>\n",
              "      <td>0</td>\n",
              "      <td>0</td>\n",
              "      <td>0</td>\n",
              "      <td>0</td>\n",
              "      <td>1</td>\n",
              "      <td>0</td>\n",
              "      <td>0</td>\n",
              "      <td>0</td>\n",
              "      <td>0</td>\n",
              "      <td>1</td>\n",
              "      <td>0</td>\n",
              "      <td>0</td>\n",
              "      <td>0</td>\n",
              "    </tr>\n",
              "    <tr>\n",
              "      <th>2</th>\n",
              "      <td>62.0</td>\n",
              "      <td>0</td>\n",
              "      <td>0</td>\n",
              "      <td>9.6875</td>\n",
              "      <td>0</td>\n",
              "      <td>1</td>\n",
              "      <td>0</td>\n",
              "      <td>0</td>\n",
              "      <td>0</td>\n",
              "      <td>1</td>\n",
              "      <td>0</td>\n",
              "      <td>0</td>\n",
              "      <td>1</td>\n",
              "      <td>0</td>\n",
              "      <td>0</td>\n",
              "      <td>0</td>\n",
              "      <td>0</td>\n",
              "      <td>1</td>\n",
              "      <td>0</td>\n",
              "      <td>0</td>\n",
              "      <td>0</td>\n",
              "      <td>0</td>\n",
              "    </tr>\n",
              "  </tbody>\n",
              "</table>\n",
              "</div>"
            ],
            "text/plain": [
              "    Age  SibSp  Parch  ...  Title_Officer  Title_Royalty  Title_nan\n",
              "0  34.5      0      0  ...              0              0          0\n",
              "1  47.0      1      0  ...              0              0          0\n",
              "2  62.0      0      0  ...              0              0          0\n",
              "\n",
              "[3 rows x 22 columns]"
            ]
          },
          "metadata": {
            "tags": []
          },
          "execution_count": 202
        }
      ]
    },
    {
      "cell_type": "code",
      "metadata": {
        "id": "cRurOWtHln-5"
      },
      "source": [
        "#欠損値処理\n",
        "X_ohe_s3 = pd.DataFrame(imp.transform(X_ohe_s2),columns=X_ohe_columns)"
      ],
      "execution_count": 203,
      "outputs": []
    },
    {
      "cell_type": "code",
      "metadata": {
        "id": "3p7kuV2LlyBQ"
      },
      "source": [
        "#RFE適用後の列名のみテストデータから抽出\n",
        "X_ohe_selected_s=X_ohe_s3.loc[:, X_ohe_columns[selector.support_]]"
      ],
      "execution_count": 204,
      "outputs": []
    },
    {
      "cell_type": "code",
      "metadata": {
        "colab": {
          "base_uri": "https://localhost:8080/",
          "height": 439
        },
        "id": "3MD-pUJkl4fm",
        "outputId": "b5e58595-a1b4-4775-852f-3943c9d0b43a"
      },
      "source": [
        "X_ohe_selected_s"
      ],
      "execution_count": 205,
      "outputs": [
        {
          "output_type": "execute_result",
          "data": {
            "text/html": [
              "<div>\n",
              "<style scoped>\n",
              "    .dataframe tbody tr th:only-of-type {\n",
              "        vertical-align: middle;\n",
              "    }\n",
              "\n",
              "    .dataframe tbody tr th {\n",
              "        vertical-align: top;\n",
              "    }\n",
              "\n",
              "    .dataframe thead th {\n",
              "        text-align: right;\n",
              "    }\n",
              "</style>\n",
              "<table border=\"1\" class=\"dataframe\">\n",
              "  <thead>\n",
              "    <tr style=\"text-align: right;\">\n",
              "      <th></th>\n",
              "      <th>Age</th>\n",
              "      <th>SibSp</th>\n",
              "      <th>Parch</th>\n",
              "      <th>Fare</th>\n",
              "      <th>Pclass_1.0</th>\n",
              "      <th>Pclass_2.0</th>\n",
              "      <th>Pclass_3.0</th>\n",
              "      <th>Sex_female</th>\n",
              "      <th>Sex_male</th>\n",
              "      <th>Embarked_C</th>\n",
              "      <th>Embarked_Q</th>\n",
              "      <th>Embarked_S</th>\n",
              "      <th>Embarked_nan</th>\n",
              "      <th>Title_Master</th>\n",
              "      <th>Title_Miss</th>\n",
              "      <th>Title_Mr</th>\n",
              "      <th>Title_Mrs</th>\n",
              "      <th>Title_Officer</th>\n",
              "      <th>Title_Royalty</th>\n",
              "    </tr>\n",
              "  </thead>\n",
              "  <tbody>\n",
              "    <tr>\n",
              "      <th>0</th>\n",
              "      <td>34.500000</td>\n",
              "      <td>0.0</td>\n",
              "      <td>0.0</td>\n",
              "      <td>7.8292</td>\n",
              "      <td>0.0</td>\n",
              "      <td>0.0</td>\n",
              "      <td>1.0</td>\n",
              "      <td>0.0</td>\n",
              "      <td>1.0</td>\n",
              "      <td>0.0</td>\n",
              "      <td>1.0</td>\n",
              "      <td>0.0</td>\n",
              "      <td>0.0</td>\n",
              "      <td>0.0</td>\n",
              "      <td>0.0</td>\n",
              "      <td>1.0</td>\n",
              "      <td>0.0</td>\n",
              "      <td>0.0</td>\n",
              "      <td>0.0</td>\n",
              "    </tr>\n",
              "    <tr>\n",
              "      <th>1</th>\n",
              "      <td>47.000000</td>\n",
              "      <td>1.0</td>\n",
              "      <td>0.0</td>\n",
              "      <td>7.0000</td>\n",
              "      <td>0.0</td>\n",
              "      <td>0.0</td>\n",
              "      <td>1.0</td>\n",
              "      <td>1.0</td>\n",
              "      <td>0.0</td>\n",
              "      <td>0.0</td>\n",
              "      <td>0.0</td>\n",
              "      <td>1.0</td>\n",
              "      <td>0.0</td>\n",
              "      <td>0.0</td>\n",
              "      <td>0.0</td>\n",
              "      <td>0.0</td>\n",
              "      <td>1.0</td>\n",
              "      <td>0.0</td>\n",
              "      <td>0.0</td>\n",
              "    </tr>\n",
              "    <tr>\n",
              "      <th>2</th>\n",
              "      <td>62.000000</td>\n",
              "      <td>0.0</td>\n",
              "      <td>0.0</td>\n",
              "      <td>9.6875</td>\n",
              "      <td>0.0</td>\n",
              "      <td>1.0</td>\n",
              "      <td>0.0</td>\n",
              "      <td>0.0</td>\n",
              "      <td>1.0</td>\n",
              "      <td>0.0</td>\n",
              "      <td>1.0</td>\n",
              "      <td>0.0</td>\n",
              "      <td>0.0</td>\n",
              "      <td>0.0</td>\n",
              "      <td>0.0</td>\n",
              "      <td>1.0</td>\n",
              "      <td>0.0</td>\n",
              "      <td>0.0</td>\n",
              "      <td>0.0</td>\n",
              "    </tr>\n",
              "    <tr>\n",
              "      <th>3</th>\n",
              "      <td>27.000000</td>\n",
              "      <td>0.0</td>\n",
              "      <td>0.0</td>\n",
              "      <td>8.6625</td>\n",
              "      <td>0.0</td>\n",
              "      <td>0.0</td>\n",
              "      <td>1.0</td>\n",
              "      <td>0.0</td>\n",
              "      <td>1.0</td>\n",
              "      <td>0.0</td>\n",
              "      <td>0.0</td>\n",
              "      <td>1.0</td>\n",
              "      <td>0.0</td>\n",
              "      <td>0.0</td>\n",
              "      <td>0.0</td>\n",
              "      <td>1.0</td>\n",
              "      <td>0.0</td>\n",
              "      <td>0.0</td>\n",
              "      <td>0.0</td>\n",
              "    </tr>\n",
              "    <tr>\n",
              "      <th>4</th>\n",
              "      <td>22.000000</td>\n",
              "      <td>1.0</td>\n",
              "      <td>1.0</td>\n",
              "      <td>12.2875</td>\n",
              "      <td>0.0</td>\n",
              "      <td>0.0</td>\n",
              "      <td>1.0</td>\n",
              "      <td>1.0</td>\n",
              "      <td>0.0</td>\n",
              "      <td>0.0</td>\n",
              "      <td>0.0</td>\n",
              "      <td>1.0</td>\n",
              "      <td>0.0</td>\n",
              "      <td>0.0</td>\n",
              "      <td>0.0</td>\n",
              "      <td>0.0</td>\n",
              "      <td>1.0</td>\n",
              "      <td>0.0</td>\n",
              "      <td>0.0</td>\n",
              "    </tr>\n",
              "    <tr>\n",
              "      <th>...</th>\n",
              "      <td>...</td>\n",
              "      <td>...</td>\n",
              "      <td>...</td>\n",
              "      <td>...</td>\n",
              "      <td>...</td>\n",
              "      <td>...</td>\n",
              "      <td>...</td>\n",
              "      <td>...</td>\n",
              "      <td>...</td>\n",
              "      <td>...</td>\n",
              "      <td>...</td>\n",
              "      <td>...</td>\n",
              "      <td>...</td>\n",
              "      <td>...</td>\n",
              "      <td>...</td>\n",
              "      <td>...</td>\n",
              "      <td>...</td>\n",
              "      <td>...</td>\n",
              "      <td>...</td>\n",
              "    </tr>\n",
              "    <tr>\n",
              "      <th>413</th>\n",
              "      <td>29.699118</td>\n",
              "      <td>0.0</td>\n",
              "      <td>0.0</td>\n",
              "      <td>8.0500</td>\n",
              "      <td>0.0</td>\n",
              "      <td>0.0</td>\n",
              "      <td>1.0</td>\n",
              "      <td>0.0</td>\n",
              "      <td>1.0</td>\n",
              "      <td>0.0</td>\n",
              "      <td>0.0</td>\n",
              "      <td>1.0</td>\n",
              "      <td>0.0</td>\n",
              "      <td>0.0</td>\n",
              "      <td>0.0</td>\n",
              "      <td>1.0</td>\n",
              "      <td>0.0</td>\n",
              "      <td>0.0</td>\n",
              "      <td>0.0</td>\n",
              "    </tr>\n",
              "    <tr>\n",
              "      <th>414</th>\n",
              "      <td>39.000000</td>\n",
              "      <td>0.0</td>\n",
              "      <td>0.0</td>\n",
              "      <td>108.9000</td>\n",
              "      <td>1.0</td>\n",
              "      <td>0.0</td>\n",
              "      <td>0.0</td>\n",
              "      <td>1.0</td>\n",
              "      <td>0.0</td>\n",
              "      <td>1.0</td>\n",
              "      <td>0.0</td>\n",
              "      <td>0.0</td>\n",
              "      <td>0.0</td>\n",
              "      <td>0.0</td>\n",
              "      <td>0.0</td>\n",
              "      <td>0.0</td>\n",
              "      <td>0.0</td>\n",
              "      <td>0.0</td>\n",
              "      <td>1.0</td>\n",
              "    </tr>\n",
              "    <tr>\n",
              "      <th>415</th>\n",
              "      <td>38.500000</td>\n",
              "      <td>0.0</td>\n",
              "      <td>0.0</td>\n",
              "      <td>7.2500</td>\n",
              "      <td>0.0</td>\n",
              "      <td>0.0</td>\n",
              "      <td>1.0</td>\n",
              "      <td>0.0</td>\n",
              "      <td>1.0</td>\n",
              "      <td>0.0</td>\n",
              "      <td>0.0</td>\n",
              "      <td>1.0</td>\n",
              "      <td>0.0</td>\n",
              "      <td>0.0</td>\n",
              "      <td>0.0</td>\n",
              "      <td>1.0</td>\n",
              "      <td>0.0</td>\n",
              "      <td>0.0</td>\n",
              "      <td>0.0</td>\n",
              "    </tr>\n",
              "    <tr>\n",
              "      <th>416</th>\n",
              "      <td>29.699118</td>\n",
              "      <td>0.0</td>\n",
              "      <td>0.0</td>\n",
              "      <td>8.0500</td>\n",
              "      <td>0.0</td>\n",
              "      <td>0.0</td>\n",
              "      <td>1.0</td>\n",
              "      <td>0.0</td>\n",
              "      <td>1.0</td>\n",
              "      <td>0.0</td>\n",
              "      <td>0.0</td>\n",
              "      <td>1.0</td>\n",
              "      <td>0.0</td>\n",
              "      <td>0.0</td>\n",
              "      <td>0.0</td>\n",
              "      <td>1.0</td>\n",
              "      <td>0.0</td>\n",
              "      <td>0.0</td>\n",
              "      <td>0.0</td>\n",
              "    </tr>\n",
              "    <tr>\n",
              "      <th>417</th>\n",
              "      <td>29.699118</td>\n",
              "      <td>1.0</td>\n",
              "      <td>1.0</td>\n",
              "      <td>22.3583</td>\n",
              "      <td>0.0</td>\n",
              "      <td>0.0</td>\n",
              "      <td>1.0</td>\n",
              "      <td>0.0</td>\n",
              "      <td>1.0</td>\n",
              "      <td>1.0</td>\n",
              "      <td>0.0</td>\n",
              "      <td>0.0</td>\n",
              "      <td>0.0</td>\n",
              "      <td>1.0</td>\n",
              "      <td>0.0</td>\n",
              "      <td>0.0</td>\n",
              "      <td>0.0</td>\n",
              "      <td>0.0</td>\n",
              "      <td>0.0</td>\n",
              "    </tr>\n",
              "  </tbody>\n",
              "</table>\n",
              "<p>418 rows × 19 columns</p>\n",
              "</div>"
            ],
            "text/plain": [
              "           Age  SibSp  Parch  ...  Title_Mrs  Title_Officer  Title_Royalty\n",
              "0    34.500000    0.0    0.0  ...        0.0            0.0            0.0\n",
              "1    47.000000    1.0    0.0  ...        1.0            0.0            0.0\n",
              "2    62.000000    0.0    0.0  ...        0.0            0.0            0.0\n",
              "3    27.000000    0.0    0.0  ...        0.0            0.0            0.0\n",
              "4    22.000000    1.0    1.0  ...        1.0            0.0            0.0\n",
              "..         ...    ...    ...  ...        ...            ...            ...\n",
              "413  29.699118    0.0    0.0  ...        0.0            0.0            0.0\n",
              "414  39.000000    0.0    0.0  ...        0.0            0.0            1.0\n",
              "415  38.500000    0.0    0.0  ...        0.0            0.0            0.0\n",
              "416  29.699118    0.0    0.0  ...        0.0            0.0            0.0\n",
              "417  29.699118    1.0    1.0  ...        0.0            0.0            0.0\n",
              "\n",
              "[418 rows x 19 columns]"
            ]
          },
          "metadata": {
            "tags": []
          },
          "execution_count": 205
        }
      ]
    },
    {
      "cell_type": "markdown",
      "metadata": {
        "id": "xFPhNmM1nB3w"
      },
      "source": [
        "今回は交叉検証およびholdoutからlogistic回帰を採用"
      ]
    },
    {
      "cell_type": "code",
      "metadata": {
        "id": "bmfOpeKTnBKT"
      },
      "source": [
        "tgt_model_name = 'lgb'\n",
        "\n",
        "for pipe_name, pipeline in pipelines.items():\n",
        "  if pipe_name == tgt_model_name:\n",
        "    score=pd.DataFrame(pipeline.predict(X_ohe_selected_s), columns=['Survived'])\n",
        "\n"
      ],
      "execution_count": 212,
      "outputs": []
    },
    {
      "cell_type": "code",
      "metadata": {
        "id": "Chsy-v31l8q1"
      },
      "source": [
        "ans=pd.concat([ID_s, score], axis=1)"
      ],
      "execution_count": 213,
      "outputs": []
    },
    {
      "cell_type": "code",
      "metadata": {
        "id": "bCdSQpOLpMRU"
      },
      "source": [
        "ans.to_csv('./output/gender_submission_lbg.csv', index=False)"
      ],
      "execution_count": 214,
      "outputs": []
    },
    {
      "cell_type": "code",
      "metadata": {
        "id": "av0OdE4wvWFT"
      },
      "source": [
        ""
      ],
      "execution_count": null,
      "outputs": []
    }
  ]
}