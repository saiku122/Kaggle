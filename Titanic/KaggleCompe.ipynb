{
  "nbformat": 4,
  "nbformat_minor": 0,
  "metadata": {
    "colab": {
      "name": "LatstTask.ipynb のコピー",
      "provenance": [],
      "collapsed_sections": [],
      "toc_visible": true,
      "authorship_tag": "ABX9TyPa9QJ/CRubIhycz2BBmcyn",
      "include_colab_link": true
    },
    "kernelspec": {
      "name": "python3",
      "display_name": "Python 3"
    },
    "language_info": {
      "name": "python"
    }
  },
  "cells": [
    {
      "cell_type": "markdown",
      "metadata": {
        "id": "view-in-github",
        "colab_type": "text"
      },
      "source": [
        "<a href=\"https://colab.research.google.com/github/saiku122/Kaggle/blob/master/Titanic/KaggleCompe.ipynb\" target=\"_parent\"><img src=\"https://colab.research.google.com/assets/colab-badge.svg\" alt=\"Open In Colab\"/></a>"
      ]
    },
    {
      "cell_type": "code",
      "metadata": {
        "colab": {
          "base_uri": "https://localhost:8080/"
        },
        "id": "kkmdqiNAKovu",
        "outputId": "b2d08eec-9d98-4d45-e94b-933ef6ec67de"
      },
      "source": [
        "cd /content/drive/MyDrive/Kaggle/Titanic"
      ],
      "execution_count": 70,
      "outputs": [
        {
          "output_type": "stream",
          "text": [
            "/content/drive/MyDrive/Kaggle/Titanic\n"
          ],
          "name": "stdout"
        }
      ]
    },
    {
      "cell_type": "markdown",
      "metadata": {
        "id": "DazQxFA8LTt2"
      },
      "source": [
        "★★最終課題★★</br>\n",
        "〇入力データ</br>\n",
        "・モデル用：train.csv</br>\n",
        "・スコア用：test.csv</br>\n",
        "</br>\n",
        "〇出力データ</br>\n",
        "・スコア付データ：</br> \n",
        "・モデル：</br>\n"
      ]
    },
    {
      "cell_type": "code",
      "metadata": {
        "id": "ANRgG95yLAAR"
      },
      "source": [
        "import pandas as pd\n",
        "import numpy as np\n",
        "from sklearn.preprocessing import StandardScaler\n",
        "from sklearn.impute import SimpleImputer\n",
        "from sklearn.feature_selection import RFECV\n",
        "from sklearn.model_selection import cross_val_score\n",
        "from sklearn.neighbors import KNeighborsClassifier\n",
        "from sklearn.linear_model import LogisticRegression\n",
        "from sklearn.svm import SVC, LinearSVC\n",
        "from sklearn.tree import DecisionTreeClassifier\n",
        "from sklearn.ensemble import RandomForestClassifier\n",
        "from sklearn.ensemble import GradientBoostingClassifier\n",
        "from sklearn.neural_network import MLPClassifier\n",
        "from sklearn.pipeline import Pipeline\n",
        "from sklearn.metrics import confusion_matrix\n",
        "import joblib\n",
        "from sklearn.metrics import accuracy_score\n",
        "import lightgbm as lgb"
      ],
      "execution_count": 102,
      "outputs": []
    },
    {
      "cell_type": "code",
      "metadata": {
        "id": "M6-5tNXiLa9v"
      },
      "source": [
        "#インプットファイル\n",
        "file_model_name = 'train.csv'\n",
        "file_test_name = 'test.csv'"
      ],
      "execution_count": 103,
      "outputs": []
    },
    {
      "cell_type": "code",
      "metadata": {
        "id": "FYIi3PbFXzC7"
      },
      "source": [
        "#一度データ取り込みを実施し、取り込みデータ型を確認\n",
        "df_train = pd.read_csv('./input/'+ file_model_name ,\n",
        "                 header=0\n",
        ")\n",
        "df_test = pd.read_csv('./input/'+ file_test_name ,\n",
        "                 header=0\n",
        ")\n"
      ],
      "execution_count": 104,
      "outputs": []
    },
    {
      "cell_type": "code",
      "metadata": {
        "id": "rmWy_KvhX9rf",
        "colab": {
          "base_uri": "https://localhost:8080/"
        },
        "outputId": "1cf6c2f1-c93c-43d4-b7dc-3218597a736c"
      },
      "source": [
        "df_train.dtypes\n",
        "df_train.isnull().sum()"
      ],
      "execution_count": 105,
      "outputs": [
        {
          "output_type": "execute_result",
          "data": {
            "text/plain": [
              "PassengerId      0\n",
              "Survived         0\n",
              "Pclass           0\n",
              "Name             0\n",
              "Sex              0\n",
              "Age            177\n",
              "SibSp            0\n",
              "Parch            0\n",
              "Ticket           0\n",
              "Fare             0\n",
              "Cabin          687\n",
              "Embarked         2\n",
              "dtype: int64"
            ]
          },
          "metadata": {
            "tags": []
          },
          "execution_count": 105
        }
      ]
    },
    {
      "cell_type": "code",
      "metadata": {
        "id": "ikHv4qhTXKFE",
        "outputId": "57e3f22a-c3e7-4f2a-8374-f8ac1d325df0",
        "colab": {
          "base_uri": "https://localhost:8080/"
        }
      },
      "source": [
        "df_test.dtypes\n",
        "df_test.isnull().sum()"
      ],
      "execution_count": 106,
      "outputs": [
        {
          "output_type": "execute_result",
          "data": {
            "text/plain": [
              "PassengerId      0\n",
              "Pclass           0\n",
              "Name             0\n",
              "Sex              0\n",
              "Age             86\n",
              "SibSp            0\n",
              "Parch            0\n",
              "Ticket           0\n",
              "Fare             1\n",
              "Cabin          327\n",
              "Embarked         0\n",
              "dtype: int64"
            ]
          },
          "metadata": {
            "tags": []
          },
          "execution_count": 106
        }
      ]
    },
    {
      "cell_type": "markdown",
      "metadata": {
        "id": "J28Qu54vW2kh"
      },
      "source": [
        "■メモ</br>\n",
        "PassengerIdはいったん除外</br>\n",
        "Ticketは特徴量から除外</br>\n",
        "Cabinも欠損値多すぎのためいったん除外する</br>\n",
        "Nameは敬称でグルーピング(特徴量抽出)</br>\n",
        "\n",
        "■方針</br>\n",
        "〇欠損値補完方針</br>\n",
        "・age：Pclass毎の平均値で保管する</br>\n",
        "・Embarked：Sでうめる\n",
        "・Fare：平均値で保管する"
      ]
    },
    {
      "cell_type": "code",
      "metadata": {
        "id": "NjX9dMMoaqkF",
        "outputId": "dba8e63f-7cbf-4c3e-d518-042d4dcea2f1",
        "colab": {
          "base_uri": "https://localhost:8080/",
          "height": 296
        }
      },
      "source": [
        "# Nameから敬称(Title)を抽出し、グルーピング\n",
        "df_train['Title'] = df_train['Name'].map(lambda x: x.split(', ')[1].split('. ')[0])\n",
        "df_train['Title'].replace(['Capt', 'Col', 'Major', 'Dr', 'Rev'], 'Officer', inplace=True)\n",
        "df_train['Title'].replace(['Don', 'Sir',  'the Countess', 'Lady', 'Dona'], 'Royalty', inplace=True)\n",
        "df_train['Title'].replace(['Mme', 'Ms'], 'Mrs', inplace=True)\n",
        "df_train['Title'].replace(['Mlle'], 'Miss', inplace=True)\n",
        "df_train['Title'].replace(['Jonkheer'], 'Master', inplace=True)\n",
        "sns.barplot(x='Title', y='Survived', data=df_train, palette='Set3')"
      ],
      "execution_count": 107,
      "outputs": [
        {
          "output_type": "execute_result",
          "data": {
            "text/plain": [
              "<matplotlib.axes._subplots.AxesSubplot at 0x7f5ee99ddb10>"
            ]
          },
          "metadata": {
            "tags": []
          },
          "execution_count": 107
        },
        {
          "output_type": "display_data",
          "data": {
            "image/png": "[encoded data removed]",
            "text/plain": [
              "<Figure size 432x288 with 1 Axes>"
            ]
          },
          "metadata": {
            "tags": [],
            "needs_background": "light"
          }
        }
      ]
    },
    {
      "cell_type": "code",
      "metadata": {
        "id": "DJhAzzCYdev9"
      },
      "source": [
        "#欠損値処理(Embarked)\n",
        "df_train['Embarked']=df_train['Embarked'].fillna('S')"
      ],
      "execution_count": 121,
      "outputs": []
    },
    {
      "cell_type": "code",
      "metadata": {
        "id": "hVQqH6vILpfW",
        "colab": {
          "base_uri": "https://localhost:8080/"
        },
        "outputId": "1421fc49-3ee8-495e-cbe5-d160af9ab305"
      },
      "source": [
        "#oheカラムの定義\n",
        "ohe_cols = ['Pclass',\n",
        "            'Sex',\n",
        "            'Embarked',\n",
        "            'Title']\n",
        "df_train = df_train.loc[:,['PassengerId','Survived','Pclass','Sex','Age','SibSp','Parch','Fare','Embarked','Title']]\n",
        "#  モデル用データ読み込み\n",
        "ID = df_train.iloc[:,0] #1列目取得\n",
        "y=df_train.iloc[:,1]    #2列目の正解データを取得\n",
        "X=df_train.iloc[:,2:]   #3列目以降取得\n",
        "df_train.dtypes"
      ],
      "execution_count": 122,
      "outputs": [
        {
          "output_type": "execute_result",
          "data": {
            "text/plain": [
              "PassengerId      int64\n",
              "Survived         int64\n",
              "Pclass           int64\n",
              "Sex             object\n",
              "Age            float64\n",
              "SibSp            int64\n",
              "Parch            int64\n",
              "Fare           float64\n",
              "Embarked        object\n",
              "Title           object\n",
              "dtype: object"
            ]
          },
          "metadata": {
            "tags": []
          },
          "execution_count": 122
        }
      ]
    },
    {
      "cell_type": "code",
      "metadata": {
        "id": "-V7URkHE3tpA"
      },
      "source": [
        "# one-hot encoding処理\n",
        "X_ohe = pd.get_dummies(X, dummy_na=True, columns=ohe_cols)\n",
        "#display(X_ohe)\n",
        "X_ohe = X_ohe.dropna(axis=1,how='all')#axis=1　列\n",
        "#display(X_ohe)\n",
        "X_ohe_columns = X_ohe.columns.values #モデルデータの列確定"
      ],
      "execution_count": 123,
      "outputs": []
    },
    {
      "cell_type": "code",
      "metadata": {
        "id": "cGuzslrefADs",
        "outputId": "547d2241-2116-4750-f197-b55abdb5d081",
        "colab": {
          "base_uri": "https://localhost:8080/",
          "height": 224
        }
      },
      "source": [
        "X_ohe.head()"
      ],
      "execution_count": 124,
      "outputs": [
        {
          "output_type": "execute_result",
          "data": {
            "text/html": [
              "<div>\n",
              "<style scoped>\n",
              "    .dataframe tbody tr th:only-of-type {\n",
              "        vertical-align: middle;\n",
              "    }\n",
              "\n",
              "    .dataframe tbody tr th {\n",
              "        vertical-align: top;\n",
              "    }\n",
              "\n",
              "    .dataframe thead th {\n",
              "        text-align: right;\n",
              "    }\n",
              "</style>\n",
              "<table border=\"1\" class=\"dataframe\">\n",
              "  <thead>\n",
              "    <tr style=\"text-align: right;\">\n",
              "      <th></th>\n",
              "      <th>Age</th>\n",
              "      <th>SibSp</th>\n",
              "      <th>Parch</th>\n",
              "      <th>Fare</th>\n",
              "      <th>Pclass_1.0</th>\n",
              "      <th>Pclass_2.0</th>\n",
              "      <th>Pclass_3.0</th>\n",
              "      <th>Pclass_nan</th>\n",
              "      <th>Sex_female</th>\n",
              "      <th>Sex_male</th>\n",
              "      <th>Sex_nan</th>\n",
              "      <th>Embarked_C</th>\n",
              "      <th>Embarked_Q</th>\n",
              "      <th>Embarked_S</th>\n",
              "      <th>Embarked_nan</th>\n",
              "      <th>Title_Master</th>\n",
              "      <th>Title_Miss</th>\n",
              "      <th>Title_Mr</th>\n",
              "      <th>Title_Mrs</th>\n",
              "      <th>Title_Officer</th>\n",
              "      <th>Title_Royalty</th>\n",
              "      <th>Title_nan</th>\n",
              "    </tr>\n",
              "  </thead>\n",
              "  <tbody>\n",
              "    <tr>\n",
              "      <th>0</th>\n",
              "      <td>22.0</td>\n",
              "      <td>1</td>\n",
              "      <td>0</td>\n",
              "      <td>7.2500</td>\n",
              "      <td>0</td>\n",
              "      <td>0</td>\n",
              "      <td>1</td>\n",
              "      <td>0</td>\n",
              "      <td>0</td>\n",
              "      <td>1</td>\n",
              "      <td>0</td>\n",
              "      <td>0</td>\n",
              "      <td>0</td>\n",
              "      <td>1</td>\n",
              "      <td>0</td>\n",
              "      <td>0</td>\n",
              "      <td>0</td>\n",
              "      <td>1</td>\n",
              "      <td>0</td>\n",
              "      <td>0</td>\n",
              "      <td>0</td>\n",
              "      <td>0</td>\n",
              "    </tr>\n",
              "    <tr>\n",
              "      <th>1</th>\n",
              "      <td>38.0</td>\n",
              "      <td>1</td>\n",
              "      <td>0</td>\n",
              "      <td>71.2833</td>\n",
              "      <td>1</td>\n",
              "      <td>0</td>\n",
              "      <td>0</td>\n",
              "      <td>0</td>\n",
              "      <td>1</td>\n",
              "      <td>0</td>\n",
              "      <td>0</td>\n",
              "      <td>1</td>\n",
              "      <td>0</td>\n",
              "      <td>0</td>\n",
              "      <td>0</td>\n",
              "      <td>0</td>\n",
              "      <td>0</td>\n",
              "      <td>0</td>\n",
              "      <td>1</td>\n",
              "      <td>0</td>\n",
              "      <td>0</td>\n",
              "      <td>0</td>\n",
              "    </tr>\n",
              "    <tr>\n",
              "      <th>2</th>\n",
              "      <td>26.0</td>\n",
              "      <td>0</td>\n",
              "      <td>0</td>\n",
              "      <td>7.9250</td>\n",
              "      <td>0</td>\n",
              "      <td>0</td>\n",
              "      <td>1</td>\n",
              "      <td>0</td>\n",
              "      <td>1</td>\n",
              "      <td>0</td>\n",
              "      <td>0</td>\n",
              "      <td>0</td>\n",
              "      <td>0</td>\n",
              "      <td>1</td>\n",
              "      <td>0</td>\n",
              "      <td>0</td>\n",
              "      <td>1</td>\n",
              "      <td>0</td>\n",
              "      <td>0</td>\n",
              "      <td>0</td>\n",
              "      <td>0</td>\n",
              "      <td>0</td>\n",
              "    </tr>\n",
              "    <tr>\n",
              "      <th>3</th>\n",
              "      <td>35.0</td>\n",
              "      <td>1</td>\n",
              "      <td>0</td>\n",
              "      <td>53.1000</td>\n",
              "      <td>1</td>\n",
              "      <td>0</td>\n",
              "      <td>0</td>\n",
              "      <td>0</td>\n",
              "      <td>1</td>\n",
              "      <td>0</td>\n",
              "      <td>0</td>\n",
              "      <td>0</td>\n",
              "      <td>0</td>\n",
              "      <td>1</td>\n",
              "      <td>0</td>\n",
              "      <td>0</td>\n",
              "      <td>0</td>\n",
              "      <td>0</td>\n",
              "      <td>1</td>\n",
              "      <td>0</td>\n",
              "      <td>0</td>\n",
              "      <td>0</td>\n",
              "    </tr>\n",
              "    <tr>\n",
              "      <th>4</th>\n",
              "      <td>35.0</td>\n",
              "      <td>0</td>\n",
              "      <td>0</td>\n",
              "      <td>8.0500</td>\n",
              "      <td>0</td>\n",
              "      <td>0</td>\n",
              "      <td>1</td>\n",
              "      <td>0</td>\n",
              "      <td>0</td>\n",
              "      <td>1</td>\n",
              "      <td>0</td>\n",
              "      <td>0</td>\n",
              "      <td>0</td>\n",
              "      <td>1</td>\n",
              "      <td>0</td>\n",
              "      <td>0</td>\n",
              "      <td>0</td>\n",
              "      <td>1</td>\n",
              "      <td>0</td>\n",
              "      <td>0</td>\n",
              "      <td>0</td>\n",
              "      <td>0</td>\n",
              "    </tr>\n",
              "  </tbody>\n",
              "</table>\n",
              "</div>"
            ],
            "text/plain": [
              "    Age  SibSp  Parch  ...  Title_Officer  Title_Royalty  Title_nan\n",
              "0  22.0      1      0  ...              0              0          0\n",
              "1  38.0      1      0  ...              0              0          0\n",
              "2  26.0      0      0  ...              0              0          0\n",
              "3  35.0      1      0  ...              0              0          0\n",
              "4  35.0      0      0  ...              0              0          0\n",
              "\n",
              "[5 rows x 22 columns]"
            ]
          },
          "metadata": {
            "tags": []
          },
          "execution_count": 124
        }
      ]
    },
    {
      "cell_type": "code",
      "metadata": {
        "id": "4cyhrJ1SZ7oA"
      },
      "source": [
        "#欠損値の置き換え\n",
        "imp=SimpleImputer() #平均値で欠損値を補完\n",
        "imp.fit(X_ohe)\n",
        "X_ohe = pd.DataFrame(imp.transform(X_ohe),columns=X_ohe_columns) # モデルデータの列を平均値補完適用させ変数を更新"
      ],
      "execution_count": 125,
      "outputs": []
    },
    {
      "cell_type": "code",
      "metadata": {
        "id": "tkqwSbCicgUI"
      },
      "source": [
        "#特徴量抽出\n",
        "selector = RFECV(estimator=RandomForestClassifier(n_estimators=100,random_state=0), step=0.05) #特徴量をRFE(主成分分析)を用いて次元削減する。(モデルはランダムフォレスト)\n",
        "selector.fit(X_ohe, y) #RFEした結果を保存\n",
        "X_ohe_selected = selector.transform(X_ohe) #X_oheに反映\n",
        "X_ohe_selected = pd.DataFrame(X_ohe_selected, columns=X_ohe_columns[selector.support_]) #削減実行後のデータを再構成"
      ],
      "execution_count": 126,
      "outputs": []
    },
    {
      "cell_type": "code",
      "metadata": {
        "id": "v_-0veaWf33P",
        "outputId": "efb0f8be-f03a-453b-d41b-933a3ce9d416",
        "colab": {
          "base_uri": "https://localhost:8080/"
        }
      },
      "source": [
        "selector.support_"
      ],
      "execution_count": 128,
      "outputs": [
        {
          "output_type": "execute_result",
          "data": {
            "text/plain": [
              "array([ True,  True,  True,  True,  True,  True,  True, False,  True,\n",
              "        True, False,  True,  True,  True,  True,  True,  True,  True,\n",
              "        True,  True,  True, False])"
            ]
          },
          "metadata": {
            "tags": []
          },
          "execution_count": 128
        }
      ]
    },
    {
      "cell_type": "markdown",
      "metadata": {
        "id": "TGv3gF31r2Kp"
      },
      "source": [
        "**モデリング**"
      ]
    },
    {
      "cell_type": "code",
      "metadata": {
        "id": "0vZzO1yQr8aV"
      },
      "source": [
        "# set pipelines for different algorithms\n",
        "pipelines = {\n",
        "    'knn':\n",
        "       Pipeline([('scl',StandardScaler()),\n",
        "                  ('est',KNeighborsClassifier())]),\n",
        "    'logistic':\n",
        "        Pipeline([('scl',StandardScaler()),\n",
        "                  ('est',LogisticRegression(random_state=1))]),\n",
        "    'rsvc':\n",
        "        Pipeline([('scl',StandardScaler()),\n",
        "                  ('est',SVC(C=1.0, kernel='rbf', class_weight='balanced', random_state=1,probability = True))]),\n",
        "    'lsvc':\n",
        "        Pipeline([('scl',StandardScaler()),\n",
        "                  ('est',SVC(C=1.0, kernel='linear', class_weight='balanced', random_state=1,probability = True))]),\n",
        "    'tree':\n",
        "        Pipeline([('scl',StandardScaler()),\n",
        "                  ('est',DecisionTreeClassifier(random_state=1))]),\n",
        "    'rf':\n",
        "        Pipeline([('scl',StandardScaler()),\n",
        "                  ('est',RandomForestClassifier(random_state=1))]),\n",
        "    'gb':\n",
        "        Pipeline([('scl',StandardScaler()),\n",
        "                  ('est',GradientBoostingClassifier(random_state=1))]),\n",
        "    'lgb':\n",
        "        Pipeline([('scl',StandardScaler()),\n",
        "                  ('lgb',lgb.LGBMClassifier())]),\n",
        "    'mlp': #ニューラルネットワーク\n",
        "        Pipeline([('scl',StandardScaler()),\n",
        "                  ('est',MLPClassifier(hidden_layer_sizes=(3,3),\n",
        "                                       max_iter=1000,\n",
        "                                       random_state=1))])\n",
        "}"
      ],
      "execution_count": 129,
      "outputs": []
    },
    {
      "cell_type": "markdown",
      "metadata": {
        "id": "OUrT3pvjOXqW"
      },
      "source": [
        "**評価データ作成(Holdアウト法)**\n"
      ]
    },
    {
      "cell_type": "code",
      "metadata": {
        "id": "z8g0F3XpOfc6"
      },
      "source": [
        "#Holdアウト法\n",
        "from sklearn.model_selection import train_test_split"
      ],
      "execution_count": 130,
      "outputs": []
    },
    {
      "cell_type": "code",
      "metadata": {
        "id": "Hp7dA7FTOtZu"
      },
      "source": [
        "# holdout法のテストデータ作成\n",
        "X_train,X_test,y_train,y_test=train_test_split(X_ohe_selected,\n",
        "                                               y,\n",
        "                                               test_size=0.3,\n",
        "                                               random_state=1)"
      ],
      "execution_count": 131,
      "outputs": []
    },
    {
      "cell_type": "code",
      "metadata": {
        "id": "VlwlWr-ysIpu"
      },
      "source": [
        "#Holdout法を用いて評価\n",
        "scores = {}\n",
        "for pipe_name, pipeline in pipelines.items():\n",
        "    pipeline.fit(X_train, y_train)\n",
        "    scores[(pipe_name,'train')] = accuracy_score(y_train, pipeline.predict(X_train))\n",
        "    scores[(pipe_name,'test')] = accuracy_score(y_test, pipeline.predict(X_test))"
      ],
      "execution_count": 132,
      "outputs": []
    },
    {
      "cell_type": "code",
      "metadata": {
        "id": "gDudpxL6PeGg",
        "colab": {
          "base_uri": "https://localhost:8080/",
          "height": 328
        },
        "outputId": "44380c4a-3db3-42f0-d0fd-5b3638139fa8"
      },
      "source": [
        "pd.Series(scores).unstack()"
      ],
      "execution_count": 133,
      "outputs": [
        {
          "output_type": "execute_result",
          "data": {
            "text/html": [
              "<div>\n",
              "<style scoped>\n",
              "    .dataframe tbody tr th:only-of-type {\n",
              "        vertical-align: middle;\n",
              "    }\n",
              "\n",
              "    .dataframe tbody tr th {\n",
              "        vertical-align: top;\n",
              "    }\n",
              "\n",
              "    .dataframe thead th {\n",
              "        text-align: right;\n",
              "    }\n",
              "</style>\n",
              "<table border=\"1\" class=\"dataframe\">\n",
              "  <thead>\n",
              "    <tr style=\"text-align: right;\">\n",
              "      <th></th>\n",
              "      <th>test</th>\n",
              "      <th>train</th>\n",
              "    </tr>\n",
              "  </thead>\n",
              "  <tbody>\n",
              "    <tr>\n",
              "      <th>gb</th>\n",
              "      <td>0.779851</td>\n",
              "      <td>0.914928</td>\n",
              "    </tr>\n",
              "    <tr>\n",
              "      <th>knn</th>\n",
              "      <td>0.779851</td>\n",
              "      <td>0.869984</td>\n",
              "    </tr>\n",
              "    <tr>\n",
              "      <th>lgb</th>\n",
              "      <td>0.772388</td>\n",
              "      <td>0.951846</td>\n",
              "    </tr>\n",
              "    <tr>\n",
              "      <th>logistic</th>\n",
              "      <td>0.798507</td>\n",
              "      <td>0.850722</td>\n",
              "    </tr>\n",
              "    <tr>\n",
              "      <th>lsvc</th>\n",
              "      <td>0.761194</td>\n",
              "      <td>0.821830</td>\n",
              "    </tr>\n",
              "    <tr>\n",
              "      <th>mlp</th>\n",
              "      <td>0.779851</td>\n",
              "      <td>0.831461</td>\n",
              "    </tr>\n",
              "    <tr>\n",
              "      <th>rf</th>\n",
              "      <td>0.761194</td>\n",
              "      <td>0.990369</td>\n",
              "    </tr>\n",
              "    <tr>\n",
              "      <th>rsvc</th>\n",
              "      <td>0.791045</td>\n",
              "      <td>0.858748</td>\n",
              "    </tr>\n",
              "    <tr>\n",
              "      <th>tree</th>\n",
              "      <td>0.753731</td>\n",
              "      <td>0.990369</td>\n",
              "    </tr>\n",
              "  </tbody>\n",
              "</table>\n",
              "</div>"
            ],
            "text/plain": [
              "              test     train\n",
              "gb        0.779851  0.914928\n",
              "knn       0.779851  0.869984\n",
              "lgb       0.772388  0.951846\n",
              "logistic  0.798507  0.850722\n",
              "lsvc      0.761194  0.821830\n",
              "mlp       0.779851  0.831461\n",
              "rf        0.761194  0.990369\n",
              "rsvc      0.791045  0.858748\n",
              "tree      0.753731  0.990369"
            ]
          },
          "metadata": {
            "tags": []
          },
          "execution_count": 133
        }
      ]
    },
    {
      "cell_type": "markdown",
      "metadata": {
        "id": "H7GRLTYfSUGl"
      },
      "source": [
        "**交叉検証**</br>\n",
        "入力データ：X_ohe_selected</br>\n",
        "　　　　　　y"
      ]
    },
    {
      "cell_type": "code",
      "metadata": {
        "id": "FFzVdD34SeZw"
      },
      "source": [
        "from sklearn.model_selection import cross_val_score, KFold\n",
        "from scipy.stats import sem"
      ],
      "execution_count": 134,
      "outputs": []
    },
    {
      "cell_type": "code",
      "metadata": {
        "id": "y8fs9uDFTTjM"
      },
      "source": [
        "#交叉検証評価"
      ],
      "execution_count": null,
      "outputs": []
    },
    {
      "cell_type": "code",
      "metadata": {
        "id": "UL_Ui90zTYQU",
        "colab": {
          "base_uri": "https://localhost:8080/"
        },
        "outputId": "f134f340-0104-46e4-a18a-8fd295d73349"
      },
      "source": [
        "scores = {}\n",
        "cv = KFold(5,shuffle=True,random_state=0)\n",
        "for pipe_name, pipeline in pipelines.items():\n",
        "  scores = cross_val_score(pipeline,X_ohe_selected,y,cv=cv)\n",
        "  print(pipe_name)\n",
        "  print(scores)\n",
        "  print (\"Mean score: {} (+/-{})\".format( np.mean (scores), sem(scores)))"
      ],
      "execution_count": 135,
      "outputs": [
        {
          "output_type": "stream",
          "text": [
            "knn\n",
            "[0.80446927 0.80337079 0.83146067 0.81460674 0.80337079]\n",
            "Mean score: 0.8114556525014123 (+/-0.00542987043087707)\n",
            "logistic\n",
            "[0.81564246 0.81460674 0.8258427  0.84831461 0.83146067]\n",
            "Mean score: 0.8271734354403364 (+/-0.006156239269037916)\n",
            "rsvc\n",
            "[0.81564246 0.8258427  0.80337079 0.79775281 0.85393258]\n",
            "Mean score: 0.8193082669010107 (+/-0.009933834421011516)\n",
            "lsvc\n",
            "[0.7877095  0.80337079 0.79213483 0.82022472 0.83707865]\n",
            "Mean score: 0.8081036971941498 (+/-0.009164594015175853)\n",
            "tree\n",
            "[0.75418994 0.80337079 0.78089888 0.76966292 0.75842697]\n",
            "Mean score: 0.7733098989391751 (+/-0.008836357684024822)\n",
            "rf\n",
            "[0.82122905 0.79775281 0.8258427  0.81460674 0.78651685]\n",
            "Mean score: 0.809189630280585 (+/-0.007404299480910666)\n",
            "gb\n",
            "[0.84916201 0.80898876 0.85393258 0.8258427  0.80337079]\n",
            "Mean score: 0.8282593685267716 (+/-0.010229057852032517)\n",
            "lgb\n",
            "[0.82681564 0.78651685 0.84831461 0.79775281 0.79775281]\n",
            "Mean score: 0.8114305442219572 (+/-0.011384173579448294)\n",
            "mlp\n",
            "[0.81005587 0.81460674 0.7752809  0.83707865 0.80898876]\n",
            "Mean score: 0.8092021844203126 (+/-0.009893772279853818)\n"
          ],
          "name": "stdout"
        }
      ]
    },
    {
      "cell_type": "code",
      "metadata": {
        "id": "cU2rDRDUspxI"
      },
      "source": [
        "#モデル保存\n",
        "for pipe_name, pipeline in pipelines.items():\n",
        "  filename=pipe_name + '.joblib'\n",
        "  joblib.dump('./output/'+ pipe_name, filename)"
      ],
      "execution_count": 136,
      "outputs": []
    },
    {
      "cell_type": "code",
      "metadata": {
        "id": "08W2m0Bz7tFo"
      },
      "source": [
        ""
      ],
      "execution_count": null,
      "outputs": []
    }
  ]
}